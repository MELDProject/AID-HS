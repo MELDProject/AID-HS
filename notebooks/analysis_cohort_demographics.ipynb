{
 "cells": [
  {
   "cell_type": "markdown",
   "metadata": {},
   "source": [
    "# Notebook to analyse the demographic and clinical information from the cohort\n",
    "\n",
    "This notebook is used to create Table 1 of the manuscript"
   ]
  },
  {
   "cell_type": "code",
   "execution_count": null,
   "metadata": {},
   "outputs": [],
   "source": [
    "import os\n",
    "import numpy as np\n",
    "import pandas as pd\n",
    "from aidhs.paths import BASE_PATH"
   ]
  },
  {
   "cell_type": "markdown",
   "metadata": {},
   "source": [
    "Load the dataset with subjects to include and the demographic file "
   ]
  },
  {
   "cell_type": "code",
   "execution_count": 2,
   "metadata": {},
   "outputs": [
    {
     "name": "stdout",
     "output_type": "stream",
     "text": [
      "365\n"
     ]
    }
   ],
   "source": [
    "# get list of subjects\n",
    "dataset_file = os.path.join(BASE_PATH,'dataset_all_with_bilateral.csv')\n",
    "df_dataset = pd.read_csv(dataset_file)\n",
    "\n",
    "subjects = df_dataset['subject_id'].values\n",
    "print(len(subjects))"
   ]
  },
  {
   "cell_type": "code",
   "execution_count": null,
   "metadata": {},
   "outputs": [],
   "source": [
    "#get demographic information\n",
    "csv_file = os.path.join(BASE_PATH,'demographics_file.csv')\n",
    "df_demos = pd.read_csv(csv_file)\n",
    "df_demos.head()"
   ]
  },
  {
   "cell_type": "markdown",
   "metadata": {},
   "source": [
    "Create a dataframe with the demographic information for each subject of the dataset"
   ]
  },
  {
   "cell_type": "code",
   "execution_count": 4,
   "metadata": {
    "scrolled": true
   },
   "outputs": [],
   "source": [
    "df=pd.DataFrame()\n",
    "for subject in subjects : \n",
    "    # print(subject)\n",
    "    row=df_demos[df_demos['ID ']==subject]\n",
    "    values={}\n",
    "    values['ID']=subject\n",
    "    values['site']=row[\"Site\"].values[0]\n",
    "    values['group'] = row[\"group\"].values[0]\n",
    "    values['lesional_hemi'] = row[\"Lesional hemi\"].values[0]\n",
    "    values['age_scan'] = row[\"Age at preoperative\"].values[0]\n",
    "    values['sex'] = row[\"Sex\"].values[0]\n",
    "    values['mri_neg'] = row[\"Ever reported MRI negative (yes=1, no=0, control=666)\"].values[0]\n",
    "    values['age_onset'] = row[\"Age of onset of epilepsy (yr)  (control= 666)\"].values[0]\n",
    "    values['lobes'] = row[\"Lobes\"].values[0]\n",
    "    df2 = pd.DataFrame([values])\n",
    "    df = pd.concat([df, df2], ignore_index=True)"
   ]
  },
  {
   "cell_type": "markdown",
   "metadata": {},
   "source": [
    "### Analyse cohort "
   ]
  },
  {
   "cell_type": "markdown",
   "metadata": {},
   "source": [
    "Analyse per group"
   ]
  },
  {
   "cell_type": "code",
   "execution_count": 5,
   "metadata": {},
   "outputs": [
    {
     "data": {
      "text/html": [
       "<div>\n",
       "<style scoped>\n",
       "    .dataframe tbody tr th:only-of-type {\n",
       "        vertical-align: middle;\n",
       "    }\n",
       "\n",
       "    .dataframe tbody tr th {\n",
       "        vertical-align: top;\n",
       "    }\n",
       "\n",
       "    .dataframe thead th {\n",
       "        text-align: right;\n",
       "    }\n",
       "</style>\n",
       "<table border=\"1\" class=\"dataframe\">\n",
       "  <thead>\n",
       "    <tr style=\"text-align: right;\">\n",
       "      <th></th>\n",
       "      <th>ID</th>\n",
       "      <th>site</th>\n",
       "      <th>lesional_hemi</th>\n",
       "      <th>age_scan</th>\n",
       "      <th>sex</th>\n",
       "      <th>mri_neg</th>\n",
       "      <th>age_onset</th>\n",
       "      <th>lobes</th>\n",
       "    </tr>\n",
       "    <tr>\n",
       "      <th>group</th>\n",
       "      <th></th>\n",
       "      <th></th>\n",
       "      <th></th>\n",
       "      <th></th>\n",
       "      <th></th>\n",
       "      <th></th>\n",
       "      <th></th>\n",
       "      <th></th>\n",
       "    </tr>\n",
       "  </thead>\n",
       "  <tbody>\n",
       "    <tr>\n",
       "      <th>C</th>\n",
       "      <td>121</td>\n",
       "      <td>121</td>\n",
       "      <td>0</td>\n",
       "      <td>121</td>\n",
       "      <td>121</td>\n",
       "      <td>0</td>\n",
       "      <td>0</td>\n",
       "      <td>0</td>\n",
       "    </tr>\n",
       "    <tr>\n",
       "      <th>DC</th>\n",
       "      <td>90</td>\n",
       "      <td>90</td>\n",
       "      <td>27</td>\n",
       "      <td>90</td>\n",
       "      <td>90</td>\n",
       "      <td>57</td>\n",
       "      <td>33</td>\n",
       "      <td>60</td>\n",
       "    </tr>\n",
       "    <tr>\n",
       "      <th>P</th>\n",
       "      <td>154</td>\n",
       "      <td>154</td>\n",
       "      <td>152</td>\n",
       "      <td>154</td>\n",
       "      <td>154</td>\n",
       "      <td>152</td>\n",
       "      <td>149</td>\n",
       "      <td>80</td>\n",
       "    </tr>\n",
       "  </tbody>\n",
       "</table>\n",
       "</div>"
      ],
      "text/plain": [
       "        ID  site  lesional_hemi  age_scan  sex  mri_neg  age_onset  lobes\n",
       "group                                                                    \n",
       "C      121   121              0       121  121        0          0      0\n",
       "DC      90    90             27        90   90       57         33     60\n",
       "P      154   154            152       154  154      152        149     80"
      ]
     },
     "execution_count": 5,
     "metadata": {},
     "output_type": "execute_result"
    }
   ],
   "source": [
    "df.groupby(['group']).count()"
   ]
  },
  {
   "cell_type": "code",
   "execution_count": 6,
   "metadata": {},
   "outputs": [
    {
     "data": {
      "text/plain": [
       "site  group\n",
       "H1    C        91\n",
       "      DC       27\n",
       "      P        24\n",
       "H11   DC       33\n",
       "      P        72\n",
       "H16   DC       30\n",
       "      P        13\n",
       "H29   C        30\n",
       "      P        45\n",
       "Name: ID, dtype: int64"
      ]
     },
     "execution_count": 6,
     "metadata": {},
     "output_type": "execute_result"
    }
   ],
   "source": [
    "df.groupby(['site','group'])['ID'].count()"
   ]
  },
  {
   "cell_type": "markdown",
   "metadata": {},
   "source": [
    "Analyse the sex [ 0 male : 1 female]"
   ]
  },
  {
   "cell_type": "code",
   "execution_count": 7,
   "metadata": {},
   "outputs": [
    {
     "data": {
      "text/plain": [
       "site  group  sex\n",
       "H1    C      0.0    26\n",
       "             1.0    65\n",
       "      DC     0.0    12\n",
       "             1.0    15\n",
       "      P      0.0    13\n",
       "             1.0    11\n",
       "H11   DC     0.0    19\n",
       "             1.0    14\n",
       "      P      0.0    41\n",
       "             1.0    31\n",
       "H16   DC     0.0    15\n",
       "             1.0    15\n",
       "      P      0.0     6\n",
       "             1.0     7\n",
       "H29   C      0.0    12\n",
       "             1.0    18\n",
       "      P      0.0    17\n",
       "             1.0    28\n",
       "Name: ID, dtype: int64"
      ]
     },
     "execution_count": 7,
     "metadata": {},
     "output_type": "execute_result"
    }
   ],
   "source": [
    "df.groupby(['site', 'group', 'sex'])['ID'].count()"
   ]
  },
  {
   "cell_type": "code",
   "execution_count": 8,
   "metadata": {},
   "outputs": [
    {
     "data": {
      "text/plain": [
       "group  sex\n",
       "C      0.0    38\n",
       "       1.0    83\n",
       "DC     0.0    46\n",
       "       1.0    44\n",
       "P      0.0    77\n",
       "       1.0    77\n",
       "Name: ID, dtype: int64"
      ]
     },
     "execution_count": 8,
     "metadata": {},
     "output_type": "execute_result"
    }
   ],
   "source": [
    "df.groupby(['group', 'sex'])['ID'].count()"
   ]
  },
  {
   "cell_type": "code",
   "execution_count": 9,
   "metadata": {},
   "outputs": [
    {
     "data": {
      "text/plain": [
       "Power_divergenceResult(statistic=11.879095521707708, pvalue=0.0078090148911170885)"
      ]
     },
     "execution_count": 9,
     "metadata": {},
     "output_type": "execute_result"
    }
   ],
   "source": [
    "# chi square stats on sex\n",
    "from scipy.stats import chisquare\n",
    "\n",
    "m = np.array([[38,46,77],[83,44,77]])   # C - DC - P , M - F\n",
    "\n",
    "count_group = m.sum(axis=0)   \n",
    "count_sex = m.sum(axis=1)\n",
    "tot = m.sum()\n",
    "\n",
    "\n",
    "Emc  =  (count_group[0]*count_sex[0])/tot\n",
    "Emdc =  (count_group[1]*count_sex[0])/tot\n",
    "Emp  =  (count_group[2]*count_sex[0])/tot\n",
    "\n",
    "Efc  =  (count_group[0]*count_sex[1])/tot\n",
    "Efdc =  (count_group[1]*count_sex[1])/tot\n",
    "Efp  =  (count_group[2]*count_sex[1])/tot\n",
    "\n",
    "f_obs = m.flatten()\n",
    "f_exp = np.array([Emc, Emdc, Emp, Efc, Efdc, Efp])\n",
    "\n",
    "chisquare(f_obs=f_obs, f_exp=f_exp, ddof=2)"
   ]
  },
  {
   "cell_type": "markdown",
   "metadata": {},
   "source": [
    "Analyse per age"
   ]
  },
  {
   "cell_type": "code",
   "execution_count": 29,
   "metadata": {},
   "outputs": [
    {
     "data": {
      "text/plain": [
       "site  group      \n",
       "H1    C      0.25    10.037645\n",
       "             0.50    13.460000\n",
       "             0.75    16.546708\n",
       "      DC     0.25     5.750000\n",
       "             0.50     7.200000\n",
       "             0.75    11.050000\n",
       "      P      0.25     6.800000\n",
       "             0.50    12.000000\n",
       "             0.75    16.600000\n",
       "H11   DC     0.25     9.000000\n",
       "             0.50    15.000000\n",
       "             0.75    23.000000\n",
       "      P      0.25    19.000000\n",
       "             0.50    25.500000\n",
       "             0.75    30.000000\n",
       "H16   DC     0.25    15.872500\n",
       "             0.50    22.835000\n",
       "             0.75    37.335000\n",
       "      P      0.25    21.460000\n",
       "             0.50    37.110000\n",
       "             0.75    59.300000\n",
       "H29   C      0.25    25.250000\n",
       "             0.50    37.000000\n",
       "             0.75    48.500000\n",
       "      P      0.25    31.000000\n",
       "             0.50    41.000000\n",
       "             0.75    46.000000\n",
       "Name: age_scan, dtype: float64"
      ]
     },
     "execution_count": 29,
     "metadata": {},
     "output_type": "execute_result"
    }
   ],
   "source": [
    "df.groupby(['site','group'])['age_scan'].quantile([0.25,0.5,0.75])"
   ]
  },
  {
   "cell_type": "code",
   "execution_count": 21,
   "metadata": {},
   "outputs": [
    {
     "data": {
      "text/plain": [
       "site  group\n",
       "H1    C        59.52\n",
       "      DC       16.70\n",
       "      P        18.50\n",
       "H11   DC       48.00\n",
       "      P        39.00\n",
       "H16   DC       59.08\n",
       "      P        69.02\n",
       "H29   C        64.00\n",
       "      P        56.00\n",
       "Name: age_scan, dtype: float64"
      ]
     },
     "execution_count": 21,
     "metadata": {},
     "output_type": "execute_result"
    }
   ],
   "source": [
    "df.groupby(['site','group'])['age_scan'].max()"
   ]
  },
  {
   "cell_type": "code",
   "execution_count": 34,
   "metadata": {},
   "outputs": [
    {
     "data": {
      "text/plain": [
       "group      \n",
       "C      0.25    11.947981\n",
       "       0.50    15.200548\n",
       "       0.75    24.000000\n",
       "DC     0.25     7.200000\n",
       "       0.50    14.300000\n",
       "       0.75    23.000000\n",
       "P      0.25    18.000000\n",
       "       0.50    26.500000\n",
       "       0.75    38.000000\n",
       "Name: age_scan, dtype: float64"
      ]
     },
     "execution_count": 34,
     "metadata": {},
     "output_type": "execute_result"
    }
   ],
   "source": [
    "df.groupby(['group'])['age_scan'].quantile([0.25,0.5,0.75])"
   ]
  },
  {
   "cell_type": "code",
   "execution_count": 23,
   "metadata": {},
   "outputs": [
    {
     "data": {
      "text/plain": [
       "Text(0, 0.5, 'number')"
      ]
     },
     "execution_count": 23,
     "metadata": {},
     "output_type": "execute_result"
    },
    {
     "data": {
      "image/png": "[encoded data removed]",
      "text/plain": [
       "<Figure size 640x480 with 1 Axes>"
      ]
     },
     "metadata": {},
     "output_type": "display_data"
    }
   ],
   "source": [
    "import matplotlib.pyplot as plt\n",
    "age_controls = df[df['group']=='C']['age_scan'].values\n",
    "\n",
    "plt.hist(age_controls, bins=20)\n",
    "plt.xlabel('age')\n",
    "plt.ylabel('number')\n"
   ]
  },
  {
   "cell_type": "code",
   "execution_count": 30,
   "metadata": {},
   "outputs": [
    {
     "data": {
      "text/plain": [
       "adult_child\n",
       "adult    200\n",
       "child    165\n",
       "Name: ID, dtype: int64"
      ]
     },
     "execution_count": 30,
     "metadata": {},
     "output_type": "execute_result"
    }
   ],
   "source": [
    "#categorise between children and adults\n",
    "\n",
    "df['adult_child']=['child' if x<18 else 'adult' for x in df['age_scan']]\n",
    "df.groupby(['adult_child'])['ID'].count()\n"
   ]
  },
  {
   "cell_type": "markdown",
   "metadata": {},
   "source": [
    "Analyse mri status (0 MRI negative , 1 MRI positive)"
   ]
  },
  {
   "cell_type": "code",
   "execution_count": 21,
   "metadata": {},
   "outputs": [
    {
     "data": {
      "text/plain": [
       "site  group  mri_neg\n",
       "H1    DC     0.0        23\n",
       "             1.0         4\n",
       "      P      0.0        18\n",
       "             1.0         4\n",
       "H11   P      0.0        53\n",
       "             1.0        19\n",
       "H16   DC     0.0        29\n",
       "             1.0         1\n",
       "      P      0.0        12\n",
       "             1.0         1\n",
       "H29   P      0.0        45\n",
       "Name: ID, dtype: int64"
      ]
     },
     "execution_count": 21,
     "metadata": {},
     "output_type": "execute_result"
    }
   ],
   "source": [
    "df.groupby(['site', 'group', 'mri_neg'])['ID'].count()"
   ]
  },
  {
   "cell_type": "code",
   "execution_count": 31,
   "metadata": {},
   "outputs": [
    {
     "data": {
      "text/plain": [
       "site  group      \n",
       "H1    C      0.25      NaN\n",
       "             0.50      NaN\n",
       "             0.75      NaN\n",
       "      DC     0.25      NaN\n",
       "             0.50      NaN\n",
       "             0.75      NaN\n",
       "      P      0.25     1.25\n",
       "             0.50     3.00\n",
       "             0.75     6.75\n",
       "H11   DC     0.25     4.00\n",
       "             0.50     6.00\n",
       "             0.75     8.00\n",
       "      P      0.25     5.75\n",
       "             0.50    11.00\n",
       "             0.75    15.25\n",
       "H16   DC     0.25      NaN\n",
       "             0.50      NaN\n",
       "             0.75      NaN\n",
       "      P      0.25     9.00\n",
       "             0.50    11.00\n",
       "             0.75    29.00\n",
       "H29   C      0.25      NaN\n",
       "             0.50      NaN\n",
       "             0.75      NaN\n",
       "      P      0.25     3.00\n",
       "             0.50    11.00\n",
       "             0.75    17.00\n",
       "Name: age_onset, dtype: float64"
      ]
     },
     "execution_count": 31,
     "metadata": {},
     "output_type": "execute_result"
    }
   ],
   "source": [
    "df.groupby(['site', 'group'])['age_onset'].quantile([0.25,0.5,0.75])"
   ]
  },
  {
   "cell_type": "code",
   "execution_count": 32,
   "metadata": {},
   "outputs": [
    {
     "data": {
      "text/plain": [
       "group      \n",
       "C      0.25     NaN\n",
       "       0.50     NaN\n",
       "       0.75     NaN\n",
       "DC     0.25     4.0\n",
       "       0.50     6.0\n",
       "       0.75     8.0\n",
       "P      0.25     4.0\n",
       "       0.50     9.0\n",
       "       0.75    16.0\n",
       "Name: age_onset, dtype: float64"
      ]
     },
     "execution_count": 32,
     "metadata": {},
     "output_type": "execute_result"
    }
   ],
   "source": [
    "df.groupby(['group'])['age_onset'].quantile([0.25,0.5,0.75])"
   ]
  },
  {
   "cell_type": "code",
   "execution_count": 33,
   "metadata": {},
   "outputs": [
    {
     "data": {
      "text/plain": [
       "group  lobes                      \n",
       "DC     frontal                        38\n",
       "       frontal+insular                 2\n",
       "       insular                         2\n",
       "       occipital                       1\n",
       "       parietal                        8\n",
       "       temporal                        7\n",
       "       temporal+frontal                1\n",
       "       temporal+parietal+occipital     1\n",
       "P      hemispherotomy                  2\n",
       "       temporal                       77\n",
       "       temporal+parietal+occipital     1\n",
       "Name: ID, dtype: int64"
      ]
     },
     "execution_count": 33,
     "metadata": {},
     "output_type": "execute_result"
    }
   ],
   "source": [
    "## lobes in FCD\n",
    "\n",
    "\n",
    "df.groupby(['group','lobes'])['ID'].count()"
   ]
  }
 ],
 "metadata": {
  "kernelspec": {
   "display_name": "Python 3.8.13 ('neohip3.8')",
   "language": "python",
   "name": "python3"
  },
  "language_info": {
   "codemirror_mode": {
    "name": "ipython",
    "version": 3
   },
   "file_extension": ".py",
   "mimetype": "text/x-python",
   "name": "python",
   "nbconvert_exporter": "python",
   "pygments_lexer": "ipython3",
   "version": "3.8.13"
  },
  "vscode": {
   "interpreter": {
    "hash": "815286c01469d9d90a947a8962f749122aac6fc2be2e11ce10fbe5b225ad5ed6"
   }
  }
 },
 "nbformat": 4,
 "nbformat_minor": 4
}
