{
 "cells": [
  {
   "cell_type": "markdown",
   "metadata": {},
   "source": [
    "# Notebook to analyse the demographic and clinical information from the cohort\n",
    "\n",
    "This notebook is used to create Table 1 of the manuscript"
   ]
  },
  {
   "cell_type": "code",
   "execution_count": null,
   "metadata": {},
   "outputs": [],
   "source": [
    "import os\n",
    "import numpy as np\n",
    "import pandas as pd\n",
    "from aidhs.paths import BASE_PATH\n",
    "\n"
   ]
  },
  {
   "cell_type": "markdown",
   "metadata": {},
   "source": [
    "Load the subjects included in the indepandante validation"
   ]
  },
  {
   "cell_type": "code",
   "execution_count": 2,
   "metadata": {},
   "outputs": [],
   "source": [
    "folder = '/home/mathilde/Documents/projects/surHippo/processes/240404_AID-HS_independantsite/aidhs_data_folder'"
   ]
  },
  {
   "cell_type": "code",
   "execution_count": 3,
   "metadata": {},
   "outputs": [
    {
     "name": "stdout",
     "output_type": "stream",
     "text": [
      "15\n"
     ]
    },
    {
     "data": {
      "text/plain": [
       "441"
      ]
     },
     "execution_count": 3,
     "metadata": {},
     "output_type": "execute_result"
    }
   ],
   "source": [
    "# get list of subjects\n",
    "\n",
    "independant_dataset = '3T'\n",
    "\n",
    "sites = ['H10','H21','H102','H2','H115', 'H45','H28', 'H5', 'H47', 'H101', 'H14', 'H103', 'H108', 'H104', 'H19'] \n",
    "print(len(sites)) \n",
    "\n",
    "#load subjects list\n",
    "subjects = []\n",
    "for site in sites:\n",
    "    subjects_file  = os.path.join(folder, f'list_subjects_{site}.csv')\n",
    "    subjects_site = pd.read_csv(subjects_file)['ID'].values\n",
    "    subjects.extend(subjects_site)\n",
    "len(subjects)\n"
   ]
  },
  {
   "cell_type": "code",
   "execution_count": 4,
   "metadata": {},
   "outputs": [
    {
     "name": "stdout",
     "output_type": "stream",
     "text": [
      "441\n",
      "['MELD_H10_P_0053' 'MELD_H21_P_0056' 'MELD_H21_P_0064' 'MELD_H21_P_0073'\n",
      " 'MELD_H2_P_0002']\n",
      "436\n"
     ]
    }
   ],
   "source": [
    "## remove outliers from QC\n",
    "print(len(subjects))\n",
    "subjects_excluded  = pd.read_csv('/home/mathilde/Documents/projects/surHippo/processes/240404_AID-HS_independantsite/aidhs_data_folder/subjects_discarded_QC.csv')\n",
    "subjects_excluded = subjects_excluded[subjects_excluded['discard']==1]['ID'].values\n",
    "print(subjects_excluded)\n",
    "\n",
    "subjects = [subject for subject in subjects if not subject in subjects_excluded]\n",
    "print(len(subjects))"
   ]
  },
  {
   "cell_type": "code",
   "execution_count": 5,
   "metadata": {},
   "outputs": [
    {
     "data": {
      "text/html": [
       "<div>\n",
       "<style scoped>\n",
       "    .dataframe tbody tr th:only-of-type {\n",
       "        vertical-align: middle;\n",
       "    }\n",
       "\n",
       "    .dataframe tbody tr th {\n",
       "        vertical-align: top;\n",
       "    }\n",
       "\n",
       "    .dataframe thead th {\n",
       "        text-align: right;\n",
       "    }\n",
       "</style>\n",
       "<table border=\"1\" class=\"dataframe\">\n",
       "  <thead>\n",
       "    <tr style=\"text-align: right;\">\n",
       "      <th></th>\n",
       "      <th>ID</th>\n",
       "      <th>Site</th>\n",
       "      <th>Scanner</th>\n",
       "      <th>Patient or Control (Patient = 1, Control = 0)</th>\n",
       "      <th>Age at preoperative</th>\n",
       "      <th>Sex (Female = 1, Male = 0)</th>\n",
       "    </tr>\n",
       "  </thead>\n",
       "  <tbody>\n",
       "    <tr>\n",
       "      <th>0</th>\n",
       "      <td>MELD_H2_P_0002</td>\n",
       "      <td>noHarmo</td>\n",
       "      <td>3T</td>\n",
       "      <td>1</td>\n",
       "      <td>13.0</td>\n",
       "      <td>1</td>\n",
       "    </tr>\n",
       "    <tr>\n",
       "      <th>1</th>\n",
       "      <td>MELD_H2_P_0024</td>\n",
       "      <td>noHarmo</td>\n",
       "      <td>3T</td>\n",
       "      <td>1</td>\n",
       "      <td>4.5</td>\n",
       "      <td>0</td>\n",
       "    </tr>\n",
       "    <tr>\n",
       "      <th>2</th>\n",
       "      <td>MELD_H2_P_0035</td>\n",
       "      <td>noHarmo</td>\n",
       "      <td>3T</td>\n",
       "      <td>1</td>\n",
       "      <td>16.3</td>\n",
       "      <td>1</td>\n",
       "    </tr>\n",
       "    <tr>\n",
       "      <th>3</th>\n",
       "      <td>MELD_H2_C_0002</td>\n",
       "      <td>noHarmo</td>\n",
       "      <td>3T</td>\n",
       "      <td>0</td>\n",
       "      <td>9.3</td>\n",
       "      <td>1</td>\n",
       "    </tr>\n",
       "    <tr>\n",
       "      <th>4</th>\n",
       "      <td>MELD_H2_C_0003</td>\n",
       "      <td>noHarmo</td>\n",
       "      <td>3T</td>\n",
       "      <td>0</td>\n",
       "      <td>7.6</td>\n",
       "      <td>0</td>\n",
       "    </tr>\n",
       "  </tbody>\n",
       "</table>\n",
       "</div>"
      ],
      "text/plain": [
       "               ID     Site Scanner  \\\n",
       "0  MELD_H2_P_0002  noHarmo      3T   \n",
       "1  MELD_H2_P_0024  noHarmo      3T   \n",
       "2  MELD_H2_P_0035  noHarmo      3T   \n",
       "3  MELD_H2_C_0002  noHarmo      3T   \n",
       "4  MELD_H2_C_0003  noHarmo      3T   \n",
       "\n",
       "   Patient or Control (Patient = 1, Control = 0)  Age at preoperative  \\\n",
       "0                                              1                 13.0   \n",
       "1                                              1                  4.5   \n",
       "2                                              1                 16.3   \n",
       "3                                              0                  9.3   \n",
       "4                                              0                  7.6   \n",
       "\n",
       "   Sex (Female = 1, Male = 0)  \n",
       "0                           1  \n",
       "1                           0  \n",
       "2                           1  \n",
       "3                           1  \n",
       "4                           0  "
      ]
     },
     "execution_count": 5,
     "metadata": {},
     "output_type": "execute_result"
    }
   ],
   "source": [
    "#get demographic information\n",
    "csv_file = os.path.join(folder,'demographics_file.csv')\n",
    "df_demos = pd.read_csv(csv_file)\n",
    "df_demos.head()"
   ]
  },
  {
   "cell_type": "code",
   "execution_count": 6,
   "metadata": {},
   "outputs": [
    {
     "data": {
      "text/html": [
       "<div>\n",
       "<style scoped>\n",
       "    .dataframe tbody tr th:only-of-type {\n",
       "        vertical-align: middle;\n",
       "    }\n",
       "\n",
       "    .dataframe tbody tr th {\n",
       "        vertical-align: top;\n",
       "    }\n",
       "\n",
       "    .dataframe thead th {\n",
       "        text-align: right;\n",
       "    }\n",
       "</style>\n",
       "<table border=\"1\" class=\"dataframe\">\n",
       "  <thead>\n",
       "    <tr style=\"text-align: right;\">\n",
       "      <th></th>\n",
       "      <th>Unnamed: 0</th>\n",
       "      <th>id</th>\n",
       "      <th>old_id</th>\n",
       "      <th>included</th>\n",
       "      <th>reason exlusion</th>\n",
       "      <th>redcap_data_access_group</th>\n",
       "      <th>site</th>\n",
       "      <th>patient_control</th>\n",
       "      <th>sex</th>\n",
       "      <th>radiology</th>\n",
       "      <th>...</th>\n",
       "      <th>hemi</th>\n",
       "      <th>reason exclusion</th>\n",
       "      <th>reason_exclusion</th>\n",
       "      <th>field_strengths___unk</th>\n",
       "      <th>field_strengths___na</th>\n",
       "      <th>postop_t1_yr_2___unk</th>\n",
       "      <th>postop_t1_yr_2___na</th>\n",
       "      <th>Unnamed: 1</th>\n",
       "      <th>notes</th>\n",
       "      <th>Unnamed: 55</th>\n",
       "    </tr>\n",
       "  </thead>\n",
       "  <tbody>\n",
       "    <tr>\n",
       "      <th>0</th>\n",
       "      <td>1.0</td>\n",
       "      <td>MELD_H10_P_0001</td>\n",
       "      <td>RMKFDO</td>\n",
       "      <td>1</td>\n",
       "      <td>NaN</td>\n",
       "      <td>NaN</td>\n",
       "      <td>H10</td>\n",
       "      <td>1.0</td>\n",
       "      <td>0.0</td>\n",
       "      <td>1.0</td>\n",
       "      <td>...</td>\n",
       "      <td>R</td>\n",
       "      <td>NaN</td>\n",
       "      <td>NaN</td>\n",
       "      <td>NaN</td>\n",
       "      <td>NaN</td>\n",
       "      <td>NaN</td>\n",
       "      <td>NaN</td>\n",
       "      <td>NaN</td>\n",
       "      <td>NaN</td>\n",
       "      <td>NaN</td>\n",
       "    </tr>\n",
       "    <tr>\n",
       "      <th>1</th>\n",
       "      <td>2.0</td>\n",
       "      <td>MELD_H10_P_0002</td>\n",
       "      <td>ARM</td>\n",
       "      <td>1</td>\n",
       "      <td>NaN</td>\n",
       "      <td>NaN</td>\n",
       "      <td>H10</td>\n",
       "      <td>1.0</td>\n",
       "      <td>1.0</td>\n",
       "      <td>8.0</td>\n",
       "      <td>...</td>\n",
       "      <td>R</td>\n",
       "      <td>NaN</td>\n",
       "      <td>NaN</td>\n",
       "      <td>NaN</td>\n",
       "      <td>NaN</td>\n",
       "      <td>NaN</td>\n",
       "      <td>NaN</td>\n",
       "      <td>NaN</td>\n",
       "      <td>NaN</td>\n",
       "      <td>NaN</td>\n",
       "    </tr>\n",
       "    <tr>\n",
       "      <th>2</th>\n",
       "      <td>3.0</td>\n",
       "      <td>MELD_H10_P_0003</td>\n",
       "      <td>ELR</td>\n",
       "      <td>1</td>\n",
       "      <td>NaN</td>\n",
       "      <td>NaN</td>\n",
       "      <td>H10</td>\n",
       "      <td>1.0</td>\n",
       "      <td>0.0</td>\n",
       "      <td>8.0</td>\n",
       "      <td>...</td>\n",
       "      <td>L</td>\n",
       "      <td>NaN</td>\n",
       "      <td>NaN</td>\n",
       "      <td>NaN</td>\n",
       "      <td>NaN</td>\n",
       "      <td>NaN</td>\n",
       "      <td>NaN</td>\n",
       "      <td>NaN</td>\n",
       "      <td>NaN</td>\n",
       "      <td>NaN</td>\n",
       "    </tr>\n",
       "    <tr>\n",
       "      <th>3</th>\n",
       "      <td>4.0</td>\n",
       "      <td>MELD_H10_P_0004</td>\n",
       "      <td>AAO</td>\n",
       "      <td>1</td>\n",
       "      <td>NaN</td>\n",
       "      <td>NaN</td>\n",
       "      <td>H10</td>\n",
       "      <td>1.0</td>\n",
       "      <td>1.0</td>\n",
       "      <td>10.0</td>\n",
       "      <td>...</td>\n",
       "      <td>L</td>\n",
       "      <td>NaN</td>\n",
       "      <td>NaN</td>\n",
       "      <td>NaN</td>\n",
       "      <td>NaN</td>\n",
       "      <td>NaN</td>\n",
       "      <td>NaN</td>\n",
       "      <td>NaN</td>\n",
       "      <td>NaN</td>\n",
       "      <td>NaN</td>\n",
       "    </tr>\n",
       "    <tr>\n",
       "      <th>4</th>\n",
       "      <td>5.0</td>\n",
       "      <td>MELD_H10_P_0005</td>\n",
       "      <td>ADT</td>\n",
       "      <td>1</td>\n",
       "      <td>NaN</td>\n",
       "      <td>NaN</td>\n",
       "      <td>H10</td>\n",
       "      <td>1.0</td>\n",
       "      <td>1.0</td>\n",
       "      <td>10.0</td>\n",
       "      <td>...</td>\n",
       "      <td>L</td>\n",
       "      <td>NaN</td>\n",
       "      <td>NaN</td>\n",
       "      <td>NaN</td>\n",
       "      <td>NaN</td>\n",
       "      <td>NaN</td>\n",
       "      <td>NaN</td>\n",
       "      <td>NaN</td>\n",
       "      <td>NaN</td>\n",
       "      <td>NaN</td>\n",
       "    </tr>\n",
       "  </tbody>\n",
       "</table>\n",
       "<p>5 rows × 65 columns</p>\n",
       "</div>"
      ],
      "text/plain": [
       "   Unnamed: 0               id  old_id  included reason exlusion  \\\n",
       "0         1.0  MELD_H10_P_0001  RMKFDO         1             NaN   \n",
       "1         2.0  MELD_H10_P_0002     ARM         1             NaN   \n",
       "2         3.0  MELD_H10_P_0003     ELR         1             NaN   \n",
       "3         4.0  MELD_H10_P_0004     AAO         1             NaN   \n",
       "4         5.0  MELD_H10_P_0005     ADT         1             NaN   \n",
       "\n",
       "  redcap_data_access_group site  patient_control  sex radiology  ... hemi  \\\n",
       "0                      NaN  H10              1.0  0.0       1.0  ...    R   \n",
       "1                      NaN  H10              1.0  1.0       8.0  ...    R   \n",
       "2                      NaN  H10              1.0  0.0       8.0  ...    L   \n",
       "3                      NaN  H10              1.0  1.0      10.0  ...    L   \n",
       "4                      NaN  H10              1.0  1.0      10.0  ...    L   \n",
       "\n",
       "   reason exclusion  reason_exclusion  field_strengths___unk  \\\n",
       "0               NaN               NaN                    NaN   \n",
       "1               NaN               NaN                    NaN   \n",
       "2               NaN               NaN                    NaN   \n",
       "3               NaN               NaN                    NaN   \n",
       "4               NaN               NaN                    NaN   \n",
       "\n",
       "   field_strengths___na  postop_t1_yr_2___unk  postop_t1_yr_2___na  \\\n",
       "0                   NaN                   NaN                  NaN   \n",
       "1                   NaN                   NaN                  NaN   \n",
       "2                   NaN                   NaN                  NaN   \n",
       "3                   NaN                   NaN                  NaN   \n",
       "4                   NaN                   NaN                  NaN   \n",
       "\n",
       "   Unnamed: 1  notes  Unnamed: 55  \n",
       "0         NaN    NaN          NaN  \n",
       "1         NaN    NaN          NaN  \n",
       "2         NaN    NaN          NaN  \n",
       "3         NaN    NaN          NaN  \n",
       "4         NaN    NaN          NaN  \n",
       "\n",
       "[5 rows x 65 columns]"
      ]
     },
     "execution_count": 6,
     "metadata": {},
     "output_type": "execute_result"
    }
   ],
   "source": [
    "# load csv with more information\n",
    "import glob\n",
    "\n",
    "df_info = pd.DataFrame()\n",
    "for site in sites:\n",
    "    info_file = glob.glob(os.path.join(folder,f'MELD_participants_infos_{site}_*.csv'))[0]\n",
    "\n",
    "    df_info_site = pd.read_csv(info_file)\n",
    "    df_info = pd.concat([df_info,df_info_site])\n",
    "df_info.head()"
   ]
  },
  {
   "cell_type": "markdown",
   "metadata": {},
   "source": [
    "Create a dataframe with the demographic information for each subject of the dataset"
   ]
  },
  {
   "cell_type": "code",
   "execution_count": 7,
   "metadata": {
    "scrolled": true
   },
   "outputs": [],
   "source": [
    "df=pd.DataFrame()\n",
    "for subject in subjects : \n",
    "    # print(subject)\n",
    "    row=df_demos[df_demos['ID']==subject]\n",
    "    values={}\n",
    "    values['ID']=subject\n",
    "    values['site']=df_info[df_info['id']==subject]['site'].values[0]\n",
    "    patient_control=df_demos[df_demos['ID']==subject]['Patient or Control (Patient = 1, Control = 0)'].values[0]\n",
    "    if (patient_control==1):\n",
    "        values['group']='P'\n",
    "    elif (patient_control==0)&('_P_' in subject):\n",
    "        values['group']='DC'\n",
    "    elif (patient_control==0)&('_C_' in subject):\n",
    "        values['group']='C'\n",
    "    else:\n",
    "        print('problem')\n",
    "        values['group'] = np.nan\n",
    "    values['sex'] = df_info[df_info['id']==subject]['sex'].values[0]\n",
    "    if independant_dataset == '15T':\n",
    "        values['age_scan'] = df_info[df_info['id']==subject]['age_at_preop_t1_15t'].values[0]\n",
    "    else:\n",
    "        values['age_scan'] = df_info[df_info['id']==subject]['age_at_preop_t1_3t'].values[0]\n",
    "    values['lesional_hemi'] = df_info[df_info['id']==subject]['hemi'].values[0]\n",
    "    \n",
    "    values['mri_neg'] = df_info[df_info['id']==subject]['mri_negative'].values[0]\n",
    "    values['age_onset'] = df_info[df_info['id']==subject]['age_at_onset'].values[0]\n",
    "    values['seizure_free'] = df_info[df_info['id']==subject]['seizure_free'].values[0]\n",
    "    df2 = pd.DataFrame([values])\n",
    "    df = pd.concat([df, df2], ignore_index=True)"
   ]
  },
  {
   "cell_type": "code",
   "execution_count": 9,
   "metadata": {},
   "outputs": [
    {
     "data": {
      "text/html": [
       "<div>\n",
       "<style scoped>\n",
       "    .dataframe tbody tr th:only-of-type {\n",
       "        vertical-align: middle;\n",
       "    }\n",
       "\n",
       "    .dataframe tbody tr th {\n",
       "        vertical-align: top;\n",
       "    }\n",
       "\n",
       "    .dataframe thead th {\n",
       "        text-align: right;\n",
       "    }\n",
       "</style>\n",
       "<table border=\"1\" class=\"dataframe\">\n",
       "  <thead>\n",
       "    <tr style=\"text-align: right;\">\n",
       "      <th></th>\n",
       "      <th>ID</th>\n",
       "      <th>site</th>\n",
       "      <th>group</th>\n",
       "      <th>sex</th>\n",
       "      <th>age_scan</th>\n",
       "      <th>lesional_hemi</th>\n",
       "      <th>mri_neg</th>\n",
       "      <th>age_onset</th>\n",
       "      <th>seizure_free</th>\n",
       "    </tr>\n",
       "  </thead>\n",
       "  <tbody>\n",
       "    <tr>\n",
       "      <th>0</th>\n",
       "      <td>MELD_H10_P_0004</td>\n",
       "      <td>H10</td>\n",
       "      <td>P</td>\n",
       "      <td>1.0</td>\n",
       "      <td>35.0</td>\n",
       "      <td>L</td>\n",
       "      <td>0.0</td>\n",
       "      <td>2.0</td>\n",
       "      <td>1.0</td>\n",
       "    </tr>\n",
       "    <tr>\n",
       "      <th>1</th>\n",
       "      <td>MELD_H10_P_0005</td>\n",
       "      <td>H10</td>\n",
       "      <td>P</td>\n",
       "      <td>1.0</td>\n",
       "      <td>26.0</td>\n",
       "      <td>L</td>\n",
       "      <td>0.0</td>\n",
       "      <td>1.0</td>\n",
       "      <td>2.0</td>\n",
       "    </tr>\n",
       "    <tr>\n",
       "      <th>2</th>\n",
       "      <td>MELD_H10_P_0006</td>\n",
       "      <td>H10</td>\n",
       "      <td>P</td>\n",
       "      <td>1.0</td>\n",
       "      <td>34.0</td>\n",
       "      <td>R</td>\n",
       "      <td>0.0</td>\n",
       "      <td>4.0</td>\n",
       "      <td>1.0</td>\n",
       "    </tr>\n",
       "    <tr>\n",
       "      <th>3</th>\n",
       "      <td>MELD_H10_P_0007</td>\n",
       "      <td>H10</td>\n",
       "      <td>P</td>\n",
       "      <td>0.0</td>\n",
       "      <td>48.0</td>\n",
       "      <td>R</td>\n",
       "      <td>0.0</td>\n",
       "      <td>2.0</td>\n",
       "      <td>2.0</td>\n",
       "    </tr>\n",
       "    <tr>\n",
       "      <th>4</th>\n",
       "      <td>MELD_H10_P_0008</td>\n",
       "      <td>H10</td>\n",
       "      <td>P</td>\n",
       "      <td>1.0</td>\n",
       "      <td>41.0</td>\n",
       "      <td>L</td>\n",
       "      <td>0.0</td>\n",
       "      <td>25.0</td>\n",
       "      <td>1.0</td>\n",
       "    </tr>\n",
       "  </tbody>\n",
       "</table>\n",
       "</div>"
      ],
      "text/plain": [
       "                ID site group  sex  age_scan lesional_hemi  mri_neg  \\\n",
       "0  MELD_H10_P_0004  H10     P  1.0      35.0             L      0.0   \n",
       "1  MELD_H10_P_0005  H10     P  1.0      26.0             L      0.0   \n",
       "2  MELD_H10_P_0006  H10     P  1.0      34.0             R      0.0   \n",
       "3  MELD_H10_P_0007  H10     P  0.0      48.0             R      0.0   \n",
       "4  MELD_H10_P_0008  H10     P  1.0      41.0             L      0.0   \n",
       "\n",
       "   age_onset  seizure_free  \n",
       "0        2.0           1.0  \n",
       "1        1.0           2.0  \n",
       "2        4.0           1.0  \n",
       "3        2.0           2.0  \n",
       "4       25.0           1.0  "
      ]
     },
     "execution_count": 9,
     "metadata": {},
     "output_type": "execute_result"
    }
   ],
   "source": [
    "df.head()"
   ]
  },
  {
   "cell_type": "code",
   "execution_count": 13,
   "metadata": {},
   "outputs": [],
   "source": [
    "#add image resolution\n",
    "# add image resolution\n",
    "import glob\n",
    "import nibabel as nb\n",
    "import shutil\n",
    "\n",
    "\n",
    "t1_folder= '/home/mathilde/Documents/projects/surHippo/processes/240404_AID-HS_independantsite/aidhs_data_folder/input'\n",
    "\n",
    "voxel_size_x = []\n",
    "voxel_size_y = []\n",
    "voxel_size_z = []\n",
    "isotropic = []\n",
    "resolution_slice= []\n",
    "resolution_plan= []\n",
    "for i,row in df.iterrows():\n",
    "    # print(id)\n",
    "    bids_id = 'sub-'+ ''.join((row['ID']).split('_'))\n",
    "    nifti_t1 = glob.glob(os.path.join(t1_folder, bids_id, 'anat', '*T1*.nii*'))[0]\n",
    "    im = nb.load(nifti_t1)\n",
    "    voxel_sizes = im.header.get_zooms()\n",
    "    voxel_size_x.append(voxel_sizes[0])\n",
    "    voxel_size_y.append(voxel_sizes[1])\n",
    "    voxel_size_z.append(voxel_sizes[2])\n",
    "    #categorise\n",
    "    min_size = min(voxel_sizes)\n",
    "    max_size = max(voxel_sizes)\n",
    "    if ((abs(voxel_sizes-min_size) < 0.0001).sum() >= 2):\n",
    "        resolution_plan.append(min_size)\n",
    "        resolution_slice.append(max_size)\n",
    "    else:\n",
    "        resolution_plan.append(max_size)\n",
    "        resolution_slice.append(min_size)\n",
    "    if ((abs(voxel_sizes-min_size) < 0.1).sum() == 3) | ((abs(voxel_sizes-max_size) < 0.1).sum() == 3):\n",
    "        isotropic.append(True)\n",
    "    else:\n",
    "        isotropic.append(False)\n",
    "      \n",
    "df['voxel_size_x']=voxel_size_x\n",
    "df['voxel_size_y']=voxel_size_y\n",
    "df['voxel_size_z']=voxel_size_z\n",
    "df['isotropic']=isotropic\n",
    "df['resolution slice']=resolution_slice\n",
    "df['resolution plan']=resolution_plan"
   ]
  },
  {
   "cell_type": "markdown",
   "metadata": {},
   "source": [
    "### Analyse cohort "
   ]
  },
  {
   "cell_type": "markdown",
   "metadata": {},
   "source": [
    "Analyse per group"
   ]
  },
  {
   "cell_type": "code",
   "execution_count": 14,
   "metadata": {},
   "outputs": [
    {
     "data": {
      "text/plain": [
       "group\n",
       "C      80\n",
       "DC     81\n",
       "P     275\n",
       "Name: ID, dtype: int64"
      ]
     },
     "execution_count": 14,
     "metadata": {},
     "output_type": "execute_result"
    }
   ],
   "source": [
    "df.groupby(['group'])['ID'].count()"
   ]
  },
  {
   "cell_type": "code",
   "execution_count": 15,
   "metadata": {},
   "outputs": [
    {
     "data": {
      "text/plain": [
       "group  site\n",
       "C      H10      20\n",
       "       H103     20\n",
       "       H108     20\n",
       "       H2       20\n",
       "DC     H101     20\n",
       "       H102     20\n",
       "       H104      4\n",
       "       H14      20\n",
       "       H21      17\n",
       "P      H10      53\n",
       "       H102      6\n",
       "       H103      5\n",
       "       H108      1\n",
       "       H115      3\n",
       "       H19      18\n",
       "       H2        2\n",
       "       H21       3\n",
       "       H28       2\n",
       "       H45       2\n",
       "       H47      31\n",
       "       H5      149\n",
       "Name: ID, dtype: int64"
      ]
     },
     "execution_count": 15,
     "metadata": {},
     "output_type": "execute_result"
    }
   ],
   "source": [
    "df.groupby(['group', 'site',])['ID'].count()"
   ]
  },
  {
   "cell_type": "markdown",
   "metadata": {},
   "source": [
    "Analyse the sex [ 0 male : 1 female]"
   ]
  },
  {
   "cell_type": "code",
   "execution_count": 16,
   "metadata": {},
   "outputs": [
    {
     "data": {
      "text/plain": [
       "group  sex\n",
       "C      0.0     35\n",
       "       1.0     45\n",
       "DC     0.0     53\n",
       "       1.0     28\n",
       "P      0.0    109\n",
       "       1.0    166\n",
       "Name: ID, dtype: int64"
      ]
     },
     "execution_count": 16,
     "metadata": {},
     "output_type": "execute_result"
    }
   ],
   "source": [
    "df.groupby(['group', 'sex'])['ID'].count()"
   ]
  },
  {
   "cell_type": "code",
   "execution_count": 17,
   "metadata": {},
   "outputs": [
    {
     "data": {
      "text/plain": [
       "Power_divergenceResult(statistic=11.879095521707708, pvalue=0.03648253755158471)"
      ]
     },
     "execution_count": 17,
     "metadata": {},
     "output_type": "execute_result"
    }
   ],
   "source": [
    "# chi square stats on sex\n",
    "from scipy.stats import chisquare\n",
    "\n",
    "m = np.array([[38,46,77],[83,44,77]])   # C - DC - P , M - F\n",
    "\n",
    "count_group = m.sum(axis=0)   \n",
    "count_sex = m.sum(axis=1)\n",
    "tot = m.sum()\n",
    "\n",
    "\n",
    "Emc  =  (count_group[0]*count_sex[0])/tot\n",
    "Emdc =  (count_group[1]*count_sex[0])/tot\n",
    "Emp  =  (count_group[2]*count_sex[0])/tot\n",
    "\n",
    "Efc  =  (count_group[0]*count_sex[1])/tot\n",
    "Efdc =  (count_group[1]*count_sex[1])/tot\n",
    "Efp  =  (count_group[2]*count_sex[1])/tot\n",
    "\n",
    "f_obs = m.flatten()\n",
    "f_exp = np.array([Emc, Emdc, Emp, Efc, Efdc, Efp])\n",
    "\n",
    "chisquare(f_obs=f_obs, f_exp=f_exp, ddof=2)"
   ]
  },
  {
   "cell_type": "markdown",
   "metadata": {},
   "source": [
    "Analyse per age"
   ]
  },
  {
   "cell_type": "code",
   "execution_count": 18,
   "metadata": {},
   "outputs": [
    {
     "data": {
      "text/plain": [
       "group      \n",
       "C      0.25    13.575\n",
       "       0.50    25.500\n",
       "       0.75    35.000\n",
       "DC     0.25     7.750\n",
       "       0.50    15.310\n",
       "       0.75    27.500\n",
       "P      0.25    27.000\n",
       "       0.50    35.500\n",
       "       0.75    47.000\n",
       "Name: age_scan, dtype: float64"
      ]
     },
     "execution_count": 18,
     "metadata": {},
     "output_type": "execute_result"
    }
   ],
   "source": [
    "df.groupby(['group'])['age_scan'].quantile([0.25,0.5,0.75])"
   ]
  },
  {
   "cell_type": "code",
   "execution_count": 21,
   "metadata": {},
   "outputs": [],
   "source": [
    "# df.groupby(['group'])['age_scan'].quantile([0,0.5,1])"
   ]
  },
  {
   "cell_type": "code",
   "execution_count": 22,
   "metadata": {},
   "outputs": [
    {
     "data": {
      "text/plain": [
       "Text(0, 0.5, 'number')"
      ]
     },
     "execution_count": 22,
     "metadata": {},
     "output_type": "execute_result"
    },
    {
     "data": {
      "image/png": "[encoded data removed]",
      "text/plain": [
       "<Figure size 640x480 with 1 Axes>"
      ]
     },
     "metadata": {},
     "output_type": "display_data"
    }
   ],
   "source": [
    "import matplotlib.pyplot as plt\n",
    "age_controls = df[df['group']=='C']['age_scan'].values\n",
    "\n",
    "plt.hist(age_controls, bins=20)\n",
    "plt.xlabel('age')\n",
    "plt.ylabel('number')\n"
   ]
  },
  {
   "cell_type": "code",
   "execution_count": 23,
   "metadata": {},
   "outputs": [
    {
     "data": {
      "text/plain": [
       "adult_child\n",
       "adult    354\n",
       "child     82\n",
       "Name: ID, dtype: int64"
      ]
     },
     "execution_count": 23,
     "metadata": {},
     "output_type": "execute_result"
    }
   ],
   "source": [
    "#categorise between children and adults\n",
    "\n",
    "df['adult_child']=['child' if x<18 else 'adult' for x in df['age_scan']]\n",
    "df.groupby(['adult_child'])['ID'].count()\n"
   ]
  },
  {
   "cell_type": "markdown",
   "metadata": {},
   "source": [
    "Analyse mri status (0 MRI negative , 1 MRI positive)"
   ]
  },
  {
   "cell_type": "code",
   "execution_count": 24,
   "metadata": {},
   "outputs": [
    {
     "data": {
      "text/plain": [
       "group  mri_neg\n",
       "DC     0.0         58\n",
       "       1.0         23\n",
       "P      0.0        254\n",
       "       1.0         14\n",
       "Name: ID, dtype: int64"
      ]
     },
     "execution_count": 24,
     "metadata": {},
     "output_type": "execute_result"
    }
   ],
   "source": [
    "df.groupby(['group', 'mri_neg'])['ID'].count()"
   ]
  },
  {
   "cell_type": "code",
   "execution_count": 25,
   "metadata": {},
   "outputs": [
    {
     "data": {
      "text/plain": [
       "0.05223880597014925"
      ]
     },
     "execution_count": 25,
     "metadata": {},
     "output_type": "execute_result"
    }
   ],
   "source": [
    "14/268"
   ]
  },
  {
   "cell_type": "code",
   "execution_count": 26,
   "metadata": {},
   "outputs": [
    {
     "data": {
      "text/plain": [
       "group      \n",
       "C      0.25      NaN\n",
       "       0.50      NaN\n",
       "       0.75      NaN\n",
       "DC     0.25     2.50\n",
       "       0.50     5.00\n",
       "       0.75    10.00\n",
       "P      0.25     4.75\n",
       "       0.50    10.00\n",
       "       0.75    17.00\n",
       "Name: age_onset, dtype: float64"
      ]
     },
     "execution_count": 26,
     "metadata": {},
     "output_type": "execute_result"
    }
   ],
   "source": [
    "df.groupby(['group'])['age_onset'].quantile([0.25,0.5,0.75])"
   ]
  },
  {
   "cell_type": "code",
   "execution_count": 27,
   "metadata": {},
   "outputs": [
    {
     "data": {
      "text/plain": [
       "group  seizure_free\n",
       "DC     1.0              70\n",
       "       2.0              11\n",
       "P      1.0             167\n",
       "       2.0             100\n",
       "       555.0             1\n",
       "Name: ID, dtype: int64"
      ]
     },
     "execution_count": 27,
     "metadata": {},
     "output_type": "execute_result"
    }
   ],
   "source": [
    "df.groupby(['group', 'seizure_free'])['ID'].count()"
   ]
  },
  {
   "cell_type": "code",
   "execution_count": 28,
   "metadata": {},
   "outputs": [
    {
     "data": {
      "text/plain": [
       "0.6254681647940075"
      ]
     },
     "execution_count": 28,
     "metadata": {},
     "output_type": "execute_result"
    }
   ],
   "source": [
    "167/267"
   ]
  },
  {
   "cell_type": "markdown",
   "metadata": {},
   "source": [
    "##### Analyse T1w scan resolution"
   ]
  },
  {
   "cell_type": "code",
   "execution_count": 16,
   "metadata": {},
   "outputs": [
    {
     "data": {
      "text/plain": [
       "isotropic\n",
       "False    177\n",
       "True     259\n",
       "Name: ID, dtype: int64"
      ]
     },
     "execution_count": 16,
     "metadata": {},
     "output_type": "execute_result"
    }
   ],
   "source": [
    "df.groupby(['isotropic'])['ID'].count()"
   ]
  },
  {
   "cell_type": "code",
   "execution_count": 19,
   "metadata": {},
   "outputs": [
    {
     "data": {
      "text/plain": [
       "0.5940366972477065"
      ]
     },
     "execution_count": 19,
     "metadata": {},
     "output_type": "execute_result"
    }
   ],
   "source": [
    "259/436"
   ]
  },
  {
   "cell_type": "code",
   "execution_count": 17,
   "metadata": {},
   "outputs": [
    {
     "data": {
      "text/html": [
       "<div>\n",
       "<style scoped>\n",
       "    .dataframe tbody tr th:only-of-type {\n",
       "        vertical-align: middle;\n",
       "    }\n",
       "\n",
       "    .dataframe tbody tr th {\n",
       "        vertical-align: top;\n",
       "    }\n",
       "\n",
       "    .dataframe thead th {\n",
       "        text-align: right;\n",
       "    }\n",
       "</style>\n",
       "<table border=\"1\" class=\"dataframe\">\n",
       "  <thead>\n",
       "    <tr style=\"text-align: right;\">\n",
       "      <th></th>\n",
       "      <th>resolution plan</th>\n",
       "      <th>resolution slice</th>\n",
       "    </tr>\n",
       "  </thead>\n",
       "  <tbody>\n",
       "    <tr>\n",
       "      <th>0.0</th>\n",
       "      <td>0.3906</td>\n",
       "      <td>0.410200</td>\n",
       "    </tr>\n",
       "    <tr>\n",
       "      <th>0.5</th>\n",
       "      <td>0.9375</td>\n",
       "      <td>1.000000</td>\n",
       "    </tr>\n",
       "    <tr>\n",
       "      <th>1.0</th>\n",
       "      <td>1.0547</td>\n",
       "      <td>3.000199</td>\n",
       "    </tr>\n",
       "  </tbody>\n",
       "</table>\n",
       "</div>"
      ],
      "text/plain": [
       "     resolution plan  resolution slice\n",
       "0.0           0.3906          0.410200\n",
       "0.5           0.9375          1.000000\n",
       "1.0           1.0547          3.000199"
      ]
     },
     "execution_count": 17,
     "metadata": {},
     "output_type": "execute_result"
    }
   ],
   "source": [
    "df[['resolution plan', 'resolution slice']].quantile([0,0.5,1])"
   ]
  }
 ],
 "metadata": {
  "kernelspec": {
   "display_name": "Python 3.8.13 ('neohip3.8')",
   "language": "python",
   "name": "python3"
  },
  "language_info": {
   "codemirror_mode": {
    "name": "ipython",
    "version": 3
   },
   "file_extension": ".py",
   "mimetype": "text/x-python",
   "name": "python",
   "nbconvert_exporter": "python",
   "pygments_lexer": "ipython3",
   "version": "3.8.13"
  },
  "vscode": {
   "interpreter": {
    "hash": "815286c01469d9d90a947a8962f749122aac6fc2be2e11ce10fbe5b225ad5ed6"
   }
  }
 },
 "nbformat": 4,
 "nbformat_minor": 4
}
