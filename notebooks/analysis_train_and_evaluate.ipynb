{
 "cells": [
  {
   "cell_type": "markdown",
   "metadata": {},
   "source": [
    "## Training and evaluation of automated detection and lateralisation of HS \n",
    "\n",
    "This notebook is used to create the results of Table 2 and Supplementary Table of the manuscript\n",
    "\n",
    "It trains a logistic regression model at classifying hippocampi in left HS , right HS and no HS class. The resulting scores are used to evaluate the model at detecting HS (i.e differentiating patients vs controls) and lateralising the side of the abnormality\n",
    "\n",
    "The model is evaluated using Leave-one-site-out cross-validation\n",
    "\n",
    "Performances of the model are breakdown into factor such as age group, sex, histopathologies, and MRI status (e.g MRI negative)\n"
   ]
  },
  {
   "cell_type": "code",
   "execution_count": 1,
   "metadata": {},
   "outputs": [
    {
     "name": "stdout",
     "output_type": "stream",
     "text": [
      "Setting DATA_PATH to /home/mathilde/Documents/projects/surHippo/processes/230315_preprocess_manuscript\n",
      "Setting BASE_PATH to /home/mathilde/Documents/projects/surHippo/processes/230315_preprocess_manuscript\n",
      "Setting EXPERIMENT_PATH to /home/mathilde/Documents/projects/surHippo/processes/230315_preprocess_manuscript/models\n",
      "Setting PARAMS_PATH to /home/mathilde/Documents/projects/surHippo/processes/230315_preprocess_manuscript\n",
      "Setting FS_SUBJECTS_PATH to \n",
      "Setting HIPPUNFOLD_SUBJECTS_PATH to \n",
      "Setting BIDS_SUBJECTS_PATH to \n"
     ]
    }
   ],
   "source": [
    "import sys\n",
    "import os\n",
    "import pandas as pd\n",
    "import numpy as np \n",
    "\n",
    "from aidhs.paths import BASE_PATH\n",
    "from aidhs.aidhs_cohort_hip import AidhsCohort, AidhsSubject\n",
    "from aidhs.train_evaluate import prepare_dataset\n",
    "import matplotlib.pyplot as plt"
   ]
  },
  {
   "attachments": {},
   "cell_type": "markdown",
   "metadata": {},
   "source": [
    "### Create dataset"
   ]
  },
  {
   "cell_type": "code",
   "execution_count": 2,
   "metadata": {},
   "outputs": [],
   "source": [
    "#create cohort\n",
    "cohort= AidhsCohort(hdf5_file_root='{site_code}_{group}_featurematrix_norm_avg.hdf5', dataset='dataset_C-P-DC_alltrain.csv')\n",
    "\n",
    "#features\n",
    "base_features=[\n",
    "    '.label-{}.curvature.sm1',\n",
    "    '.label-{}.gauss-curv_filtered_sm1',\n",
    "    '.label-{}.gyrification.sm1',\n",
    "    '.label-{}.thickness.sm1',\n",
    "    '.label-avg.hippunfold_volume_icvcorr',\n",
    "    '.label-avg.FS_volume_icvcorr',\n",
    "    ]\n",
    "\n",
    "features = ['.inter_z.asym.combat'+feature.format('avg') for feature in base_features]\n",
    "features = features + ['.inter_z.combat'+feature.format('avg') for feature in base_features]"
   ]
  },
  {
   "cell_type": "code",
   "execution_count": null,
   "metadata": {},
   "outputs": [],
   "source": [
    "df = prepare_dataset(features, cohort)"
   ]
  },
  {
   "cell_type": "code",
   "execution_count": 18,
   "metadata": {},
   "outputs": [],
   "source": [
    "# add raw freesurfer volumes\n",
    "\n",
    "cohort_raw= AidhsCohort(hdf5_file_root='{site_code}_{group}_featurematrix_smoothed_avg.hdf5', dataset='dataset_C-P-DC_alltrain.csv')\n",
    "\n",
    "\n",
    "feature = '.label-avg.FS_volume_icvcorr'\n",
    "volumes = []\n",
    "for i, row in df.iterrows():\n",
    "    subj = AidhsSubject(row['ID'], cohort=cohort_raw) \n",
    "    vals = subj.load_feature_values(feature, row['hemi'])[0]\n",
    "    volumes.append(vals)\n",
    "df[feature] = volumes"
   ]
  },
  {
   "cell_type": "code",
   "execution_count": 6,
   "metadata": {},
   "outputs": [],
   "source": [
    "# add histopathology\n",
    "import numpy as np\n",
    "\n",
    "def isNaN(num):\n",
    "    return num != num\n",
    "\n",
    "#add histopathologie \n",
    "histos = []\n",
    "for i,row in df.iterrows():\n",
    "    # print(id)\n",
    "    subj=AidhsSubject(row['ID'],cohort)\n",
    "    if row['group']=='P':\n",
    "        # print(histo)\n",
    "        histo = subj.get_demographic_features(['histology'])[0]\n",
    "        if isNaN(histo):\n",
    "            histos.append('non spec')\n",
    "            # histos.append(np.nan)\n",
    "        elif 'HS type 1' in histo:\n",
    "            histos.append('HS type 1')\n",
    "        elif 'HS type 2' in histo:\n",
    "            histos.append('HS type 2')\n",
    "        elif 'HS type 3' in histo:\n",
    "            histos.append('HS type 3')\n",
    "        else:\n",
    "            histos.append('non spec')\n",
    "    else:\n",
    "        histos.append(np.nan)\n",
    "df['histo']=histos"
   ]
  },
  {
   "cell_type": "code",
   "execution_count": 3,
   "metadata": {},
   "outputs": [],
   "source": [
    "#load or save matrix\n",
    "output_path=os.path.join(BASE_PATH,'data_saved')\n",
    "file = os.path.join(output_path,'matrix_norm_avg_230920.csv')   \n",
    "# df.to_csv(file)\n",
    "df=pd.read_csv(file, header=0,encoding='unicode_escape', index_col=0)"
   ]
  },
  {
   "cell_type": "code",
   "execution_count": 4,
   "metadata": {},
   "outputs": [
    {
     "data": {
      "text/plain": [
       "group  histo      hemi\n",
       "P      HS type 1  lh      60\n",
       "                  rh      60\n",
       "       HS type 2  lh      29\n",
       "                  rh      29\n",
       "       HS type 3  lh       7\n",
       "                  rh       7\n",
       "       non spec   lh      56\n",
       "                  rh      56\n",
       "Name: ID, dtype: int64"
      ]
     },
     "execution_count": 4,
     "metadata": {},
     "output_type": "execute_result"
    }
   ],
   "source": [
    "df.groupby(['group','histo','hemi'])['ID'].count()"
   ]
  },
  {
   "cell_type": "code",
   "execution_count": 5,
   "metadata": {},
   "outputs": [
    {
     "data": {
      "text/plain": [
       "group  hemi\n",
       "C      lh      121\n",
       "       rh      121\n",
       "DC     lh       90\n",
       "       rh       90\n",
       "P      lh      152\n",
       "       rh      152\n",
       "Name: ID, dtype: int64"
      ]
     },
     "execution_count": 5,
     "metadata": {},
     "output_type": "execute_result"
    }
   ],
   "source": [
    "df.groupby(['group','hemi',])['ID'].count()"
   ]
  },
  {
   "cell_type": "code",
   "execution_count": 11,
   "metadata": {},
   "outputs": [
    {
     "data": {
      "text/plain": [
       "group  site  hemi\n",
       "C      H1    lh      91\n",
       "             rh      91\n",
       "       H29   lh      30\n",
       "             rh      30\n",
       "DC     H1    lh      27\n",
       "             rh      27\n",
       "       H11   lh      33\n",
       "             rh      33\n",
       "       H16   lh      30\n",
       "             rh      30\n",
       "P      H1    lh      22\n",
       "             rh      22\n",
       "       H11   lh      72\n",
       "             rh      72\n",
       "       H16   lh      13\n",
       "             rh      13\n",
       "       H29   lh      45\n",
       "             rh      45\n",
       "Name: ID, dtype: int64"
      ]
     },
     "execution_count": 11,
     "metadata": {},
     "output_type": "execute_result"
    }
   ],
   "source": [
    "df.groupby(['group','site', 'hemi',])['ID'].count()"
   ]
  },
  {
   "attachments": {},
   "cell_type": "markdown",
   "metadata": {},
   "source": [
    "### Train classifier"
   ]
  },
  {
   "cell_type": "code",
   "execution_count": 6,
   "metadata": {},
   "outputs": [],
   "source": [
    "import os\n",
    "import numpy as np\n",
    "from aidhs.train_evaluate import  ModelLogR, cross_validation_training, prepare_train_test_data, compute_performances, get_lateralisation_performances, get_differentiation_performances\n",
    "from aidhs.paths import BASE_PATH"
   ]
  },
  {
   "cell_type": "code",
   "execution_count": 7,
   "metadata": {},
   "outputs": [],
   "source": [
    "OUTPUT_PATH = os.path.join(BASE_PATH,'images')"
   ]
  },
  {
   "cell_type": "code",
   "execution_count": 8,
   "metadata": {},
   "outputs": [],
   "source": [
    "# Define the different set of input features to use\n",
    "x_categories = {\n",
    "'Hippunfold features':[ \n",
    "    '.inter_z.asym.combat.label-avg.curvature.sm1',\n",
    "    '.inter_z.asym.combat.label-avg.gauss-curv_filtered_sm1',\n",
    "    '.inter_z.asym.combat.label-avg.gyrification.sm1',\n",
    "    '.inter_z.asym.combat.label-avg.thickness.sm1',\n",
    "    '.inter_z.asym.combat.label-avg.hippunfold_volume_icvcorr',\n",
    "    ],\n",
    "\n",
    "'FS volume preprocessed':[\n",
    "    '.inter_z.asym.combat.label-avg.FS_volume_icvcorr',\n",
    "    ],\n",
    "\n",
    "'FS volume raw':[\n",
    "    '.label-avg.FS_volume_icvcorr',\n",
    "    ],\n",
    "    \n",
    "}"
   ]
  },
  {
   "cell_type": "code",
   "execution_count": 9,
   "metadata": {},
   "outputs": [
    {
     "name": "stdout",
     "output_type": "stream",
     "text": [
      "\n",
      " Preparation of data for method Hippunfold features\n",
      "Classes = ['control' 'lh_ipsi' 'rh_ipsi']\n",
      "There is 363 subject for training\n",
      "number ipsi lh: 81\n",
      "number ipsi rh: 71\n",
      "number control: 211\n",
      "\n",
      " Running training and evaluate\n",
      "\n",
      " Preparation of data for method FS volume preprocessed\n",
      "Classes = ['control' 'lh_ipsi' 'rh_ipsi']\n",
      "There is 363 subject for training\n",
      "number ipsi lh: 81\n",
      "number ipsi rh: 71\n",
      "number control: 211\n",
      "\n",
      " Running training and evaluate\n",
      "\n",
      " Preparation of data for method FS volume raw\n",
      "Classes = ['control' 'lh_ipsi' 'rh_ipsi']\n",
      "There is 363 subject for training\n",
      "number ipsi lh: 81\n",
      "number ipsi rh: 71\n",
      "number control: 211\n",
      "\n",
      " Running training and evaluate\n"
     ]
    }
   ],
   "source": [
    "\n",
    "# initialise the set of features to run training on \n",
    "methods = ['Hippunfold features', 'FS volume preprocessed', 'FS volume raw']\n",
    "\n",
    "#initialise the sites and dataset to use\n",
    "sites=['H11', 'H16', 'H1','H29']\n",
    "file_split = os.path.join(os.path.join(BASE_PATH,'dataset_C-P-DC_alltrain.csv'))\n",
    "\n",
    "#initialise the model\n",
    "model_name = 'LogReg'\n",
    "model = ModelLogR(seed_model=0)\n",
    "lateralisation_only = False\n",
    "differentiation_only = False\n",
    "\n",
    "#initialise path to save models\n",
    "output_path= os.path.join(os.path.join(BASE_PATH,'data_saved'))\n",
    "\n",
    "data_method={}\n",
    "results_method={}\n",
    "for method in methods:\n",
    "\n",
    "    print(f'\\n Preparation of data for method {method}')\n",
    "    data_method[method]={}\n",
    "    \n",
    "    #preparation of the train and test data\n",
    "    data_method[method]['train_dataset']= prepare_train_test_data(df,  file_split, x_categories[method],\n",
    "                                                                mode='train',\n",
    "                                                                lateralisation_only=lateralisation_only, \n",
    "                                                                differentiation_only=differentiation_only)\n",
    "    #TRAIN AND EVALUATE WITH LEAVE ONE SITE OUT\n",
    "    print(f'\\n Running training and evaluate')\n",
    "    train_dataset = data_method[method]['train_dataset']\n",
    "    #create splits based on one site out\n",
    "    splits = []\n",
    "    for site in sites:\n",
    "        # initialise site out\n",
    "        train_index = np.array(train_dataset['df']['site']['lh']!=site)\n",
    "        test_index = np.array(train_dataset['df']['site']['lh']==site)\n",
    "        splits.append(np.array([train_index,test_index])) \n",
    "    #train and evaluate   \n",
    "    scores,y_pred, clfs = cross_validation_training(train_dataset['X'], train_dataset['Y'], model, splits=splits)\n",
    "    # #save classifiers\n",
    "    # for i in range(0,len(sites)):\n",
    "    #     filename = os.path.join(output_path,f'model_{model_name}_{method}_{sites[i]}.sav')\n",
    "    #     joblib.dump(clfs[i], filename) \n",
    "\n",
    "    #COMPUTE PERFORMANCES\n",
    "    results_method[method] = compute_performances(train_dataset['Y'], train_dataset['y_bin'], y_pred, scores)\n",
    "    \n",
    "    #add lateralisation performances\n",
    "    results_method[method]['predict_side'], results_method[method]['accurately_lateralised'], results_method[method]['scores_lateralised'] = get_lateralisation_performances(train_dataset['Y'], scores)\n",
    "\n",
    "    #add detection performances\n",
    "    results_method[method]['predict_group'], results_method[method]['accurately_differentiated'], results_method[method]['scores_differentiated'] = get_differentiation_performances(train_dataset['Y'], scores)\n",
    "    "
   ]
  },
  {
   "attachments": {},
   "cell_type": "markdown",
   "metadata": {},
   "source": [
    "### Compare methods with ROC curves"
   ]
  },
  {
   "cell_type": "code",
   "execution_count": 11,
   "metadata": {},
   "outputs": [
    {
     "data": {
      "image/png": "[encoded data removed]",
      "text/plain": [
       "<Figure size 1200x300 with 2 Axes>"
      ]
     },
     "metadata": {},
     "output_type": "display_data"
    }
   ],
   "source": [
    "from sklearn.metrics import classification_report, confusion_matrix, roc_curve, auc\n",
    "\n",
    "fig, axs = plt.subplots(1,2,figsize=(12,3))\n",
    "for method in methods:\n",
    "    \n",
    "    #lateralisation\n",
    "    y = data_method[method]['train_dataset']['Y']\n",
    "    scores = np.array(results_method[method]['scores_lateralised'])\n",
    "    mask =  (y!=0)\n",
    "    new_y = np.array([0 if yy==1 else 1 for yy in y])\n",
    "    fpr, tpr, _ = roc_curve(new_y[mask], scores[mask][:,1])\n",
    "    roc_auc = auc(fpr, tpr)\n",
    "    axs[0].plot(fpr,tpr, label=f'{method}: AUC={round(roc_auc,2)}')\n",
    "    axs[0].set_title('ROC: right HS vs left HS')\n",
    "    axs[0].legend(loc='lower right')\n",
    "    axs[0].set_xlabel('False Positive Rate')\n",
    "    axs[0].set_ylabel('True Positive Rate')\n",
    "    \n",
    "    #differentiation\n",
    "    y = data_method[method]['train_dataset']['Y']\n",
    "    scores = np.array(results_method[method]['scores_differentiated'])\n",
    "    new_y = np.array([0 if yy==0 else 1 for yy in y])\n",
    "    fpr, tpr, _ = roc_curve(new_y, scores[:,1])\n",
    "    roc_auc = auc(fpr, tpr)\n",
    "    axs[1].plot(fpr,tpr, label=f'{method}: AUC={round(roc_auc,2)}')\n",
    "    axs[1].set_title('ROC: HS vs no-HS')\n",
    "    axs[1].legend(loc='lower right')\n",
    "    axs[1].set_xlabel('False Positive Rate')\n",
    "    axs[1].set_ylabel('True Positive Rate')\n",
    "\n",
    "# fig.savefig(f'{OUTPUT_PATH}/roc_curves_methods_rawT1_clipsigma_newdataset.png', dpi=96, transparent =True, bbox_inches = 'tight')"
   ]
  },
  {
   "attachments": {},
   "cell_type": "markdown",
   "metadata": {},
   "source": [
    "### Evaluation overall performances"
   ]
  },
  {
   "cell_type": "code",
   "execution_count": 12,
   "metadata": {},
   "outputs": [
    {
     "name": "stdout",
     "output_type": "stream",
     "text": [
      "classification report for method Hippunfold features:\n",
      "              precision    recall  f1-score   support\n",
      "\n",
      "           0       0.93      0.94      0.94       211\n",
      "           1       0.89      0.88      0.88        81\n",
      "           2       0.93      0.90      0.91        71\n",
      "\n",
      "    accuracy                           0.92       363\n",
      "   macro avg       0.91      0.91      0.91       363\n",
      "weighted avg       0.92      0.92      0.92       363\n",
      "\n",
      "classification report for method FS volume preprocessed:\n",
      "              precision    recall  f1-score   support\n",
      "\n",
      "           0       0.92      0.92      0.92       211\n",
      "           1       0.88      0.85      0.87        81\n",
      "           2       0.86      0.87      0.87        71\n",
      "\n",
      "    accuracy                           0.90       363\n",
      "   macro avg       0.89      0.88      0.88       363\n",
      "weighted avg       0.90      0.90      0.90       363\n",
      "\n",
      "classification report for method FS volume raw:\n",
      "              precision    recall  f1-score   support\n",
      "\n",
      "           0       0.91      0.89      0.90       211\n",
      "           1       0.80      0.84      0.82        81\n",
      "           2       0.87      0.87      0.87        71\n",
      "\n",
      "    accuracy                           0.88       363\n",
      "   macro avg       0.86      0.87      0.86       363\n",
      "weighted avg       0.88      0.88      0.88       363\n",
      "\n"
     ]
    },
    {
     "data": {
      "text/plain": [
       "<Figure size 640x480 with 0 Axes>"
      ]
     },
     "metadata": {},
     "output_type": "display_data"
    },
    {
     "data": {
      "image/png": "[encoded data removed]",
      "text/plain": [
       "<Figure size 640x480 with 2 Axes>"
      ]
     },
     "metadata": {},
     "output_type": "display_data"
    },
    {
     "data": {
      "text/plain": [
       "<Figure size 640x480 with 0 Axes>"
      ]
     },
     "metadata": {},
     "output_type": "display_data"
    },
    {
     "data": {
      "image/png": "[encoded data removed]",
      "text/plain": [
       "<Figure size 640x480 with 2 Axes>"
      ]
     },
     "metadata": {},
     "output_type": "display_data"
    },
    {
     "data": {
      "text/plain": [
       "<Figure size 640x480 with 0 Axes>"
      ]
     },
     "metadata": {},
     "output_type": "display_data"
    },
    {
     "data": {
      "image/png": "[encoded data removed]",
      "text/plain": [
       "<Figure size 640x480 with 2 Axes>"
      ]
     },
     "metadata": {},
     "output_type": "display_data"
    }
   ],
   "source": [
    "# Look at confusion matrix\n",
    "from sklearn.metrics import ConfusionMatrixDisplay\n",
    "import matplotlib.pyplot as plt\n",
    "\n",
    "for method in methods:\n",
    "    print(f'classification report for method {method}:')\n",
    "    print(classification_report(data_method[method]['train_dataset']['Y'],results_method[method]['predictions']))\n",
    "    plt.figure()\n",
    "    cm = confusion_matrix(data_method[method]['train_dataset']['Y'],results_method[method]['predictions'])\n",
    "    ConfusionMatrixDisplay(cm).plot()"
   ]
  },
  {
   "cell_type": "code",
   "execution_count": 13,
   "metadata": {},
   "outputs": [
    {
     "name": "stdout",
     "output_type": "stream",
     "text": [
      "\n",
      "Results for method Hippunfold features\n",
      "\n",
      "Performances lateralisation only:\n",
      "TP in HS: 148/152 (97.4%)\n",
      "\n",
      "Performances differentiation only:\n",
      "TP differentiating: 336/363 (92.6%)\n",
      "TP detecting controls: 199/211 (94.3%)\n",
      "TP detecting HS: 137/152 (90.1%)\n",
      "\n",
      "Results for method FS volume preprocessed\n",
      "\n",
      "Performances lateralisation only:\n",
      "TP in HS: 144/152 (94.7%)\n",
      "\n",
      "Performances differentiation only:\n",
      "TP differentiating: 329/363 (90.6%)\n",
      "TP detecting controls: 195/211 (92.4%)\n",
      "TP detecting HS: 134/152 (88.2%)\n",
      "\n",
      "Results for method FS volume raw\n",
      "\n",
      "Performances lateralisation only:\n",
      "TP in HS: 145/152 (95.4%)\n",
      "\n",
      "Performances differentiation only:\n",
      "TP differentiating: 321/363 (88.4%)\n",
      "TP detecting controls: 188/211 (89.1%)\n",
      "TP detecting HS: 133/152 (87.5%)\n"
     ]
    }
   ],
   "source": [
    "#comparison of overall performances per methods\n",
    "\n",
    "for method in methods:\n",
    "    print(f'\\nResults for method {method}')\n",
    "    datatrain=data_method[method]['train_dataset']['df']\n",
    "\n",
    "    try:\n",
    "        print('\\nPerformances lateralisation only:')\n",
    "        datatrain[f'TP_side'] = results_method[method]['accurately_lateralised']\n",
    "        \n",
    "        n_tot = len(datatrain[(datatrain['group']['lh']=='P')])\n",
    "        if n_tot>0:   \n",
    "            n_tp = len(datatrain[(datatrain['group']['lh']=='P')&(datatrain['TP_side']==True)])\n",
    "            print(f'TP in HS: {n_tp}/{n_tot} ({round(n_tp/n_tot*100,1)}%)')\n",
    "\n",
    "    except:\n",
    "        pass\n",
    "\n",
    "    try:\n",
    "        print('\\nPerformances differentiation only:')\n",
    "        datatrain[f'TP_group'] = results_method[method]['accurately_differentiated']\n",
    "\n",
    "        n_tot = len(datatrain)\n",
    "        if n_tot>0:\n",
    "            n_tp = len(datatrain[(datatrain['TP_group']==True)])\n",
    "            print(f'TP differentiating: {n_tp}/{n_tot} ({round(n_tp/n_tot*100,1)}%)')\n",
    "\n",
    "        n_tot = len(datatrain[(datatrain['group']['lh']!='P')])\n",
    "        if n_tot>0:\n",
    "            n_tp = len(datatrain[(datatrain['group']['lh']!='P')&(datatrain['TP_group']==True)])\n",
    "            print(f'TP detecting controls: {n_tp}/{n_tot} ({round(n_tp/n_tot*100,1)}%)')\n",
    "\n",
    "        n_tot = len(datatrain[(datatrain['group']['lh']=='P')])\n",
    "        if n_tot>0:   \n",
    "            n_tp = len(datatrain[(datatrain['group']['lh']=='P')&(datatrain['TP_group']==True)])\n",
    "            print(f'TP detecting HS: {n_tp}/{n_tot} ({round(n_tp/n_tot*100,1)}%)')\n",
    "    except:\n",
    "        pass"
   ]
  },
  {
   "attachments": {},
   "cell_type": "markdown",
   "metadata": {},
   "source": [
    "### Evaluation breakdown per age, sex, histopathologies, MRI status, sites, control group"
   ]
  },
  {
   "cell_type": "code",
   "execution_count": 13,
   "metadata": {},
   "outputs": [
    {
     "name": "stdout",
     "output_type": "stream",
     "text": [
      "\n",
      "Performances lateralisation only:\n",
      "TP in MRI negative HS: 22/24 (91.7%)\n",
      "TP in MRI positive HS: 126/128 (98.4%)\n",
      "\n",
      "Performances differentiation only:\n",
      "TP detecting MRI negative HS: 19/24 (79.2%)\n",
      "TP detecting MRI positive HS: 118/128 (92.2%)\n"
     ]
    }
   ],
   "source": [
    "#breakdown per mri-neg\n",
    "\n",
    "method = 'Hippunfold features' \n",
    "datatrain=data_method[method]['train_dataset']['df']\n",
    "\n",
    "try:\n",
    "    print('\\nPerformances lateralisation only:')\n",
    "    datatrain[f'TP_side'] = results_method[method]['accurately_lateralised']\n",
    "    \n",
    "    n_tot = len(datatrain[(datatrain['group']['lh']=='P')&(datatrain['mri_neg']['lh']==1.0)])\n",
    "    if n_tot>0:   \n",
    "        n_tp = len(datatrain[(datatrain['group']['lh']=='P')&(datatrain['mri_neg']['lh']==1.0)&(datatrain['TP_side']==True)])\n",
    "        print(f'TP in MRI negative HS: {n_tp}/{n_tot} ({round(n_tp/n_tot*100,1)}%)')\n",
    "    \n",
    "    n_tot = len(datatrain[(datatrain['group']['lh']=='P')&(datatrain['mri_neg']['lh']==0.0)])\n",
    "    if n_tot>0:\n",
    "        n_tp = len(datatrain[(datatrain['group']['lh']=='P')&(datatrain['mri_neg']['lh']==0.0)&(datatrain['TP_side']==True)])\n",
    "        print(f'TP in MRI positive HS: {n_tp}/{n_tot} ({round(n_tp/n_tot*100,1)}%)')\n",
    "except:\n",
    "    pass\n",
    "\n",
    "try:\n",
    "    print('\\nPerformances differentiation only:')\n",
    "    datatrain[f'TP_group'] = results_method[method]['accurately_differentiated']\n",
    "\n",
    "    n_tot = len(datatrain[(datatrain['group']['lh']=='P')&(datatrain['mri_neg']['lh']==1.0)])\n",
    "    if n_tot>0:   \n",
    "        n_tp = len(datatrain[(datatrain['group']['lh']=='P')&(datatrain['mri_neg']['lh']==1.0)&(datatrain['TP_group']==True)])\n",
    "        print(f'TP detecting MRI negative HS: {n_tp}/{n_tot} ({round(n_tp/n_tot*100,1)}%)')\n",
    "\n",
    "    n_tot = len(datatrain[(datatrain['group']['lh']=='P')&(datatrain['mri_neg']['lh']==0.0)])\n",
    "    if n_tot>0:   \n",
    "        n_tp = len(datatrain[(datatrain['group']['lh']=='P')&(datatrain['mri_neg']['lh']==0.0)&(datatrain['TP_group']==True)])\n",
    "        print(f'TP detecting MRI positive HS: {n_tp}/{n_tot} ({round(n_tp/n_tot*100,1)}%)')\n",
    "except:\n",
    "    pass"
   ]
  },
  {
   "cell_type": "code",
   "execution_count": 14,
   "metadata": {},
   "outputs": [
    {
     "name": "stdout",
     "output_type": "stream",
     "text": [
      "\n",
      "Performances lateralisation only:\n",
      "TP in sex 0.0: 75/77 (97.4%)\n",
      "TP in sex 1.0: 73/75 (97.3%)\n",
      "\n",
      "Performances differentiation only:\n",
      "TP in sex 0.0: 70/77 (90.9%)\n",
      "TP in sex 1.0: 67/75 (89.3%)\n"
     ]
    }
   ],
   "source": [
    "#breakdown per sex in patients    \n",
    "\n",
    "method = 'Hippunfold features' \n",
    "datatrain=data_method[method]['train_dataset']['df']\n",
    "\n",
    "#combine datatrain with sex\n",
    "datatrain['sex'] = [df[df['ID']==subject]['sex'].values[0] for subject in datatrain.index]\n",
    "\n",
    "#print performances per sex\n",
    "print('\\nPerformances lateralisation only:')\n",
    "datatrain[f'TP_side'] = results_method[method]['accurately_lateralised']\n",
    "for sex in [0.0, 1.0]:\n",
    "    n_tot = len(datatrain[(datatrain['group']['lh']=='P')&(datatrain['sex']==sex)])\n",
    "    if n_tot>0:   \n",
    "        n_tp = len(datatrain[(datatrain['group']['lh']=='P')& (datatrain['sex']==sex)&(datatrain['TP_side']==True)])\n",
    "        print(f'TP in sex {sex}: {n_tp}/{n_tot} ({round(n_tp/n_tot*100,1)}%)')\n",
    "\n",
    "print('\\nPerformances differentiation only:')\n",
    "datatrain[f'TP_group'] = results_method[method]['accurately_differentiated']\n",
    "        \n",
    "for sex in [0.0, 1.0]:\n",
    "    n_tot = len(datatrain[(datatrain['group']['lh']=='P')&(datatrain['sex']==sex)])\n",
    "    if n_tot>0:   \n",
    "        n_tp = len(datatrain[(datatrain['group']['lh']=='P')&(datatrain['sex']==sex)&(datatrain['TP_group']==True)])\n",
    "        print(f'TP in sex {sex}: {n_tp}/{n_tot} ({round(n_tp/n_tot*100,1)}%)')"
   ]
  },
  {
   "cell_type": "code",
   "execution_count": 15,
   "metadata": {},
   "outputs": [
    {
     "name": "stdout",
     "output_type": "stream",
     "text": [
      "\n",
      "Performances differentiation only:\n",
      "TP detecting healthy controls: 116/121 (95.9%)\n",
      "TP detecting disease controls: 83/90 (92.2%)\n"
     ]
    }
   ],
   "source": [
    "#breakdown per controls group\n",
    "\n",
    "method = 'Hippunfold features'\n",
    "datatrain=data_method[method]['train_dataset']['df']\n",
    "\n",
    "try:\n",
    "    print('\\nPerformances differentiation only:')\n",
    "    datatrain[f'TP_group'] = results_method[method]['accurately_differentiated']\n",
    "            \n",
    "    n_tot = len(datatrain[(datatrain['group']['lh']=='C')])\n",
    "    if n_tot>0:\n",
    "        n_tp = len(datatrain[(datatrain['group']['lh']=='C')&(datatrain['TP_group']==True)])\n",
    "        print(f'TP detecting healthy controls: {n_tp}/{n_tot} ({round(n_tp/n_tot*100,1)}%)')\n",
    "\n",
    "    n_tot = len(datatrain[(datatrain['group']['lh']=='DC')])\n",
    "    if n_tot>0:\n",
    "        n_tp = len(datatrain[(datatrain['group']['lh']=='DC')&(datatrain['TP_group']==True)])\n",
    "        print(f'TP detecting disease controls: {n_tp}/{n_tot} ({round(n_tp/n_tot*100,1)}%)')\n",
    "\n",
    "except:\n",
    "    pass"
   ]
  },
  {
   "cell_type": "code",
   "execution_count": 16,
   "metadata": {},
   "outputs": [
    {
     "name": "stdout",
     "output_type": "stream",
     "text": [
      "\n",
      "Performances differentiation only:\n",
      "TP in sex 0.0: 74/84 (88.1%)\n",
      "TP in sex 1.0: 125/127 (98.4%)\n"
     ]
    }
   ],
   "source": [
    "#breakdown per sex in controls\n",
    "\n",
    "method = 'Hippunfold features'   \n",
    "datatrain=data_method[method]['train_dataset']['df']\n",
    "    \n",
    "#combine datatrain with sex\n",
    "datatrain['sex'] = [df[df['ID']==subject]['sex'].values[0] for subject in datatrain.index]\n",
    "\n",
    "print('\\nPerformances differentiation only:')\n",
    "datatrain[f'TP_group'] = results_method[method]['accurately_differentiated']\n",
    "        \n",
    "for sex in [0.0, 1.0]:\n",
    "    n_tot = len(datatrain[(datatrain['group']['lh']!='P')&(datatrain['sex']==sex)])\n",
    "    if n_tot>0:   \n",
    "        n_tp = len(datatrain[(datatrain['group']['lh']!='P')&(datatrain['sex']==sex)&(datatrain['TP_group']==True)])\n",
    "        print(f'TP in sex {sex}: {n_tp}/{n_tot} ({round(n_tp/n_tot*100,1)}%)')"
   ]
  },
  {
   "cell_type": "code",
   "execution_count": 17,
   "metadata": {},
   "outputs": [
    {
     "name": "stdout",
     "output_type": "stream",
     "text": [
      "\n",
      "Performances lateralisation only:\n",
      "TP in HS type 1: 60/60 (100.0%)\n",
      "TP in HS type 2: 26/29 (89.7%)\n",
      "TP in HS type 3: 6/7 (85.7%)\n",
      "TP in non spec: 56/56 (100.0%)\n",
      "\n",
      "Performances differentiation only:\n",
      "TP detecting HS type 1: 55/60 (91.7%)\n",
      "TP detecting HS type 2: 27/29 (93.1%)\n",
      "TP detecting HS type 3: 4/7 (57.1%)\n",
      "TP detecting non spec: 51/56 (91.1%)\n"
     ]
    }
   ],
   "source": [
    "#breakdown per histo\n",
    "\n",
    "method = 'Hippunfold features'\n",
    "datatrain=data_method[method]['train_dataset']['df']\n",
    "    \n",
    "#combine datatrain with histo\n",
    "datatrain['histo'] = [df[df['ID']==subject]['histo'].values[0] for subject in datatrain.index]\n",
    "\n",
    "#print performances per histo\n",
    "print('\\nPerformances lateralisation only:')\n",
    "datatrain[f'TP_side'] = results_method[method]['accurately_lateralised']\n",
    "for histo in ['HS type 1', 'HS type 2', 'HS type 3', 'non spec']:\n",
    "    n_tot = len(datatrain[(datatrain['group']['lh']=='P')&(datatrain['histo']==histo)])\n",
    "    if n_tot>0:   \n",
    "        n_tp = len(datatrain[(datatrain['group']['lh']=='P')&(datatrain['histo']==histo)&(datatrain['TP_side']==True)])\n",
    "        print(f'TP in {histo}: {n_tp}/{n_tot} ({round(n_tp/n_tot*100,1)}%)')\n",
    "    \n",
    "\n",
    "print('\\nPerformances differentiation only:')\n",
    "datatrain[f'TP_group'] = results_method[method]['accurately_differentiated']\n",
    "        \n",
    "for histo in ['HS type 1', 'HS type 2', 'HS type 3', 'non spec']:\n",
    "    n_tot = len(datatrain[(datatrain['group']['lh']=='P')&(datatrain['histo']==histo)])\n",
    "    if n_tot>0:   \n",
    "        n_tp = len(datatrain[(datatrain['group']['lh']=='P')&(datatrain['histo']==histo)&(datatrain['TP_group']==True)])\n",
    "        print(f'TP detecting {histo}: {n_tp}/{n_tot} ({round(n_tp/n_tot*100,1)}%)')\n",
    "    "
   ]
  },
  {
   "cell_type": "code",
   "execution_count": 18,
   "metadata": {},
   "outputs": [
    {
     "name": "stdout",
     "output_type": "stream",
     "text": [
      "\n",
      "Performances lateralisation only:\n",
      "TP in age range [0, 18]: 32/34 (94.1%)\n",
      "TP in age range [18, 100]: 116/118 (98.3%)\n",
      "\n",
      "Performances differentiation only:\n",
      "TP detecting [0, 18]: 29/34 (85.3%)\n",
      "TP detecting [18, 100]: 108/118 (91.5%)\n"
     ]
    }
   ],
   "source": [
    "#breakdown per age in patients\n",
    "\n",
    "method = 'Hippunfold features' \n",
    "datatrain=data_method[method]['train_dataset']['df']\n",
    "    \n",
    "#combine datatrain with age\n",
    "datatrain['age'] = [df[df['ID']==subject]['age_scan'].values[0] for subject in datatrain.index]\n",
    "\n",
    "#print performances per age\n",
    "print('\\nPerformances lateralisation only:')\n",
    "datatrain[f'TP_side'] = results_method[method]['accurately_lateralised']\n",
    "for age in [[0,18], [18, 100]]:\n",
    "    n_tot = len(datatrain[(datatrain['group']['lh']=='P')&(datatrain['age']>=age[0])&(datatrain['age']<age[1])])\n",
    "    if n_tot>0:   \n",
    "        n_tp = len(datatrain[(datatrain['group']['lh']=='P')&(datatrain['age']>=age[0])&(datatrain['age']<age[1])&(datatrain['TP_side']==True)])\n",
    "        print(f'TP in age range {age}: {n_tp}/{n_tot} ({round(n_tp/n_tot*100,1)}%)')\n",
    "\n",
    "print('\\nPerformances differentiation only:')\n",
    "datatrain[f'TP_group'] = results_method[method]['accurately_differentiated']\n",
    "        \n",
    "for age in [[0,18],[18,100]]:\n",
    "    n_tot = len(datatrain[(datatrain['group']['lh']=='P')&(datatrain['age']>=age[0])&(datatrain['age']<age[1])])\n",
    "    if n_tot>0:   \n",
    "        n_tp = len(datatrain[(datatrain['group']['lh']=='P')&(datatrain['age']>=age[0])&(datatrain['age']<age[1])&(datatrain['TP_group']==True)])\n",
    "        print(f'TP detecting {age}: {n_tp}/{n_tot} ({round(n_tp/n_tot*100,1)}%)')\n",
    "    "
   ]
  },
  {
   "cell_type": "code",
   "execution_count": 19,
   "metadata": {},
   "outputs": [
    {
     "name": "stdout",
     "output_type": "stream",
     "text": [
      "\n",
      "Performances lateralisation only:\n",
      "TP lateralising H1: 21/22 (95.5%)\n",
      "TP lateralising H11: 69/72 (95.8%)\n",
      "TP lateralising H16: 13/13 (100.0%)\n",
      "TP lateralising H29: 45/45 (100.0%)\n",
      "\n",
      "Performances differentiation only:\n",
      "TP detecting H1: 18/22 (81.8%)\n",
      "TP detecting H11: 67/72 (93.1%)\n",
      "TP detecting H16: 12/13 (92.3%)\n",
      "TP detecting H29: 40/45 (88.9%)\n"
     ]
    }
   ],
   "source": [
    "#breakdown per site\n",
    "\n",
    "method = 'Hippunfold features'\n",
    "datatrain=data_method[method]['train_dataset']['df']\n",
    "    \n",
    "#combine datatrain with site\n",
    "datatrain['site'] = [df[df['ID']==subject]['site'].values[0] for subject in datatrain.index]\n",
    "\n",
    "#print performances per site\n",
    "print('\\nPerformances lateralisation only:')\n",
    "datatrain[f'TP_side'] = results_method[method]['accurately_lateralised']\n",
    "for site in ['H1', 'H11', 'H16', 'H29']:\n",
    "    n_tot = len(datatrain[(datatrain['group']['lh']=='P')&(datatrain['site']['lh']==site)])\n",
    "    if n_tot>0:   \n",
    "        n_tp = len(datatrain[(datatrain['group']['lh']=='P')&(datatrain['site']['lh']==site)&(datatrain['TP_side']==True)])\n",
    "        print(f'TP lateralising {site}: {n_tp}/{n_tot} ({round(n_tp/n_tot*100,1)}%)')\n",
    "\n",
    "\n",
    "print('\\nPerformances differentiation only:')\n",
    "datatrain[f'TP_group'] = results_method[method]['accurately_differentiated']\n",
    "        \n",
    "for site in ['H1', 'H11', 'H16', 'H29']:\n",
    "    n_tot = len(datatrain[(datatrain['group']['lh']=='P')&(datatrain['site']['lh']==site)])\n",
    "    if n_tot>0:   \n",
    "        n_tp = len(datatrain[(datatrain['group']['lh']=='P')&(datatrain['site']['lh']==site)&(datatrain['TP_group']==True)])\n",
    "        print(f'TP detecting {site}: {n_tp}/{n_tot} ({round(n_tp/n_tot*100,1)}%)')\n"
   ]
  },
  {
   "cell_type": "markdown",
   "metadata": {},
   "source": [
    "#### Analyse breakdown effects using multivariable linear regression "
   ]
  },
  {
   "cell_type": "code",
   "execution_count": 20,
   "metadata": {},
   "outputs": [
    {
     "data": {
      "text/html": [
       "<div>\n",
       "<style scoped>\n",
       "    .dataframe tbody tr th:only-of-type {\n",
       "        vertical-align: middle;\n",
       "    }\n",
       "\n",
       "    .dataframe tbody tr th {\n",
       "        vertical-align: top;\n",
       "    }\n",
       "\n",
       "    .dataframe thead th {\n",
       "        text-align: right;\n",
       "    }\n",
       "</style>\n",
       "<table border=\"1\" class=\"dataframe\">\n",
       "  <thead>\n",
       "    <tr style=\"text-align: right;\">\n",
       "      <th></th>\n",
       "      <th>Group</th>\n",
       "      <th>Age group</th>\n",
       "      <th>Sex</th>\n",
       "      <th>Site</th>\n",
       "      <th>Histology</th>\n",
       "      <th>Ever reported MRI negative</th>\n",
       "      <th>detected</th>\n",
       "      <th>lateralised</th>\n",
       "    </tr>\n",
       "  </thead>\n",
       "  <tbody>\n",
       "    <tr>\n",
       "      <th>0</th>\n",
       "      <td>P</td>\n",
       "      <td>adult</td>\n",
       "      <td>1.0</td>\n",
       "      <td>H11</td>\n",
       "      <td>HS type 1</td>\n",
       "      <td>0.0</td>\n",
       "      <td>True</td>\n",
       "      <td>True</td>\n",
       "    </tr>\n",
       "    <tr>\n",
       "      <th>1</th>\n",
       "      <td>P</td>\n",
       "      <td>pediatric</td>\n",
       "      <td>1.0</td>\n",
       "      <td>H11</td>\n",
       "      <td>HS type 2</td>\n",
       "      <td>1.0</td>\n",
       "      <td>False</td>\n",
       "      <td>True</td>\n",
       "    </tr>\n",
       "    <tr>\n",
       "      <th>2</th>\n",
       "      <td>P</td>\n",
       "      <td>pediatric</td>\n",
       "      <td>1.0</td>\n",
       "      <td>H11</td>\n",
       "      <td>HS type 2</td>\n",
       "      <td>1.0</td>\n",
       "      <td>True</td>\n",
       "      <td>True</td>\n",
       "    </tr>\n",
       "    <tr>\n",
       "      <th>3</th>\n",
       "      <td>P</td>\n",
       "      <td>adult</td>\n",
       "      <td>1.0</td>\n",
       "      <td>H11</td>\n",
       "      <td>HS type 1</td>\n",
       "      <td>0.0</td>\n",
       "      <td>False</td>\n",
       "      <td>True</td>\n",
       "    </tr>\n",
       "    <tr>\n",
       "      <th>4</th>\n",
       "      <td>P</td>\n",
       "      <td>adult</td>\n",
       "      <td>1.0</td>\n",
       "      <td>H11</td>\n",
       "      <td>HS type 2</td>\n",
       "      <td>0.0</td>\n",
       "      <td>True</td>\n",
       "      <td>True</td>\n",
       "    </tr>\n",
       "  </tbody>\n",
       "</table>\n",
       "</div>"
      ],
      "text/plain": [
       "  Group  Age group  Sex Site  Histology  Ever reported MRI negative  detected  \\\n",
       "0     P      adult  1.0  H11  HS type 1                         0.0      True   \n",
       "1     P  pediatric  1.0  H11  HS type 2                         1.0     False   \n",
       "2     P  pediatric  1.0  H11  HS type 2                         1.0      True   \n",
       "3     P      adult  1.0  H11  HS type 1                         0.0     False   \n",
       "4     P      adult  1.0  H11  HS type 2                         0.0      True   \n",
       "\n",
       "  lateralised  \n",
       "0        True  \n",
       "1        True  \n",
       "2        True  \n",
       "3        True  \n",
       "4        True  "
      ]
     },
     "execution_count": 20,
     "metadata": {},
     "output_type": "execute_result"
    }
   ],
   "source": [
    "# create the breakdown dataframe\n",
    "\n",
    "subdf = data_method[method]['train_dataset']['df'][['TP_side','TP_group']]\n",
    "df_breakdown=pd.DataFrame()\n",
    "\n",
    "#add group\n",
    "df_breakdown['Group'] = [df[df['ID']==subject]['group'].values[0] for subject in subdf.index]\n",
    "#add age preop\n",
    "df_breakdown['Age group'] = ['pediatric' if df[df['ID']==subject]['age_scan'].values[0]<18 else 'adult' for subject in subdf.index]\n",
    "#add sex\n",
    "df_breakdown['Sex'] = [df[df['ID']==subject]['sex'].values[0] for subject in subdf.index]\n",
    "#add site\n",
    "df_breakdown['Site'] = [df[df['ID']==subject]['site'].values[0] for subject in subdf.index]\n",
    "#add histo\n",
    "df_breakdown['Histology'] = [df[df['ID']==subject]['histo'].values[0] if df[df['ID']==subject]['group'].values[0]=='P' else np.nan for subject in subdf.index]\n",
    "#add mri_neg\n",
    "df_breakdown['Ever reported MRI negative'] = [df[df['ID']==subject]['mri_neg'].values[0] if df[df['ID']==subject]['group'].values[0]=='P' else np.nan for subject in subdf.index]\n",
    "\n",
    "\n",
    "#add detection or lateralisation\n",
    "df_breakdown['detected'] = subdf['TP_group'].values\n",
    "df_breakdown['lateralised'] = subdf['TP_side'].values\n",
    "\n",
    "df_breakdown.head()"
   ]
  },
  {
   "cell_type": "code",
   "execution_count": 21,
   "metadata": {},
   "outputs": [
    {
     "name": "stdout",
     "output_type": "stream",
     "text": [
      "Warning: Maximum number of iterations has been exceeded.\n",
      "         Current function value: 0.277101\n",
      "         Iterations: 35\n",
      "                           Logit Regression Results                           \n",
      "==============================================================================\n",
      "Dep. Variable:               detected   No. Observations:                  152\n",
      "Model:                          Logit   Df Residuals:                      142\n",
      "Method:                           MLE   Df Model:                            9\n",
      "Date:                Mon, 25 Sep 2023   Pseudo R-squ.:                  0.1399\n",
      "Time:                        14:24:40   Log-Likelihood:                -42.119\n",
      "converged:                      False   LL-Null:                       -48.972\n",
      "Covariance Type:            nonrobust   LLR p-value:                    0.1332\n",
      "==================================================================================================\n",
      "                                     coef    std err          z      P>|z|      [0.025      0.975]\n",
      "--------------------------------------------------------------------------------------------------\n",
      "const                              3.5371      0.820      4.315      0.000       1.930       5.144\n",
      "Age group_pediatric               -0.3642      0.883     -0.412      0.680      -2.095       1.367\n",
      "Sex_1.0                            0.0262      0.597      0.044      0.965      -1.144       1.197\n",
      "Ever reported MRI negative_1.0    -1.5854      0.862     -1.838      0.066      -3.276       0.105\n",
      "Histology_HS type 2               -0.1264      0.957     -0.132      0.895      -2.001       1.748\n",
      "Histology_HS type 3               -1.5207      1.037     -1.466      0.143      -3.553       0.512\n",
      "Histology_non spec                25.0759   1.72e+05      0.000      1.000   -3.37e+05    3.37e+05\n",
      "Site_H1                           -1.2796      1.034     -1.237      0.216      -3.307       0.748\n",
      "Site_H16                          -1.6035      1.287     -1.246      0.213      -4.125       0.918\n",
      "Site_H29                         -26.5498   1.72e+05     -0.000      1.000   -3.37e+05    3.37e+05\n",
      "==================================================================================================\n"
     ]
    },
    {
     "name": "stderr",
     "output_type": "stream",
     "text": [
      "/home/mathilde/anaconda3/envs/neohip3.8/lib/python3.8/site-packages/statsmodels/base/model.py:604: ConvergenceWarning: Maximum Likelihood optimization failed to converge. Check mle_retvals\n",
      "  warnings.warn(\"Maximum Likelihood optimization failed to \"\n"
     ]
    }
   ],
   "source": [
    "# Predicting detection in patients with age, sex, site, MRI status and histopathologies\n",
    "\n",
    "import statsmodels.api as smf\n",
    "\n",
    "df_breakdown_sub = df_breakdown[df_breakdown['Group']=='P'].copy()\n",
    "df_breakdown_sub = df_breakdown_sub.reset_index()\n",
    "\n",
    "#convert categorical variables to dummy variable\n",
    "df_breakdown_sub = pd.get_dummies(df_breakdown_sub, columns=['Age group', 'Sex', 'Site', 'Ever reported MRI negative','Histology'], drop_first=False)\n",
    "\n",
    "# defining the dependent and independent variables with the reference for each category\n",
    "Xtrain = df_breakdown_sub[['Age group_pediatric', 'Sex_1.0', 'Ever reported MRI negative_1.0','Histology_HS type 2','Histology_HS type 3','Histology_non spec', 'Site_H1', 'Site_H16', 'Site_H29', ]]\n",
    "ytrain = df_breakdown_sub['detected'].astype(bool)\n",
    "\n",
    "Xtrain = smf.add_constant(Xtrain)\n",
    "\n",
    "#create model\n",
    "model = smf.Logit(ytrain, Xtrain)\n",
    "\n",
    "#fit model\n",
    "res=model.fit()\n",
    "\n",
    "#print summary\n",
    "print(res.summary())"
   ]
  },
  {
   "cell_type": "code",
   "execution_count": 22,
   "metadata": {},
   "outputs": [
    {
     "name": "stdout",
     "output_type": "stream",
     "text": [
      "Warning: Maximum number of iterations has been exceeded.\n",
      "         Current function value: 0.074840\n",
      "         Iterations: 35\n",
      "                           Logit Regression Results                           \n",
      "==============================================================================\n",
      "Dep. Variable:            lateralised   No. Observations:                  152\n",
      "Model:                          Logit   Df Residuals:                      142\n",
      "Method:                           MLE   Df Model:                            9\n",
      "Date:                Mon, 25 Sep 2023   Pseudo R-squ.:                  0.3850\n",
      "Time:                        14:24:45   Log-Likelihood:                -11.376\n",
      "converged:                      False   LL-Null:                       -18.497\n",
      "Covariance Type:            nonrobust   LLR p-value:                    0.1139\n",
      "==================================================================================================\n",
      "                                     coef    std err          z      P>|z|      [0.025      0.975]\n",
      "--------------------------------------------------------------------------------------------------\n",
      "const                             32.9327   1.21e+06   2.72e-05      1.000   -2.37e+06    2.37e+06\n",
      "Age group_pediatric               -0.1087      1.338     -0.081      0.935      -2.731       2.514\n",
      "Sex_1.0                            0.1603      1.195      0.134      0.893      -2.181       2.502\n",
      "Ever reported MRI negative_1.0    -1.3707      1.270     -1.080      0.280      -3.859       1.118\n",
      "Histology_HS type 2              -30.4396   1.21e+06  -2.51e-05      1.000   -2.37e+06    2.37e+06\n",
      "Histology_HS type 3              -29.4493   1.21e+06  -2.43e-05      1.000   -2.37e+06    2.37e+06\n",
      "Histology_non spec                -1.6286   1.66e+06   -9.8e-07      1.000   -3.26e+06    3.26e+06\n",
      "Site_H1                           -1.3599      1.994     -0.682      0.495      -5.267       2.548\n",
      "Site_H16                          22.4756   1.89e+05      0.000      1.000   -3.71e+05    3.71e+05\n",
      "Site_H29                          -6.2282   1.14e+06  -5.46e-06      1.000   -2.23e+06    2.23e+06\n",
      "==================================================================================================\n",
      "\n",
      "Possibly complete quasi-separation: A fraction 0.78 of observations can be\n",
      "perfectly predicted. This might indicate that there is complete\n",
      "quasi-separation. In this case some parameters will not be identified.\n"
     ]
    },
    {
     "name": "stderr",
     "output_type": "stream",
     "text": [
      "/home/mathilde/anaconda3/envs/neohip3.8/lib/python3.8/site-packages/statsmodels/base/model.py:604: ConvergenceWarning: Maximum Likelihood optimization failed to converge. Check mle_retvals\n",
      "  warnings.warn(\"Maximum Likelihood optimization failed to \"\n"
     ]
    }
   ],
   "source": [
    "# Predicting lateralisation in patients with age, sex, site, MRI status and histopathologies\n",
    "import statsmodels.api as smf\n",
    "\n",
    "df_breakdown_sub = df_breakdown[df_breakdown['Group']=='P'].copy()\n",
    "\n",
    "#convert categorical variables to dummy variable\n",
    "df_breakdown_sub = pd.get_dummies(df_breakdown_sub, columns=['Age group', 'Sex', 'Site', 'Ever reported MRI negative','Histology'], drop_first=False)\n",
    "\n",
    "# defining the dependent and independent variables with the reference for each category\n",
    "Xtrain = df_breakdown_sub[['Age group_pediatric', 'Sex_1.0', 'Ever reported MRI negative_1.0','Histology_HS type 2','Histology_HS type 3','Histology_non spec', 'Site_H1', 'Site_H16', 'Site_H29']]\n",
    "ytrain = df_breakdown_sub['lateralised'].astype(bool)\n",
    "\n",
    "Xtrain = smf.add_constant(Xtrain)\n",
    "\n",
    "#create model\n",
    "model = smf.Logit(ytrain, Xtrain)\n",
    "#fit model\n",
    "res=model.fit()\n",
    "\n",
    "#print summary\n",
    "print(res.summary())"
   ]
  },
  {
   "cell_type": "code",
   "execution_count": 23,
   "metadata": {},
   "outputs": [
    {
     "name": "stdout",
     "output_type": "stream",
     "text": [
      "Optimization terminated successfully.\n",
      "         Current function value: 0.215283\n",
      "         Iterations 7\n",
      "                           Logit Regression Results                           \n",
      "==============================================================================\n",
      "Dep. Variable:               detected   No. Observations:                  211\n",
      "Model:                          Logit   Df Residuals:                      209\n",
      "Method:                           MLE   Df Model:                            1\n",
      "Date:                Mon, 25 Sep 2023   Pseudo R-squ.:                 0.01370\n",
      "Time:                        14:24:47   Log-Likelihood:                -45.425\n",
      "converged:                       True   LL-Null:                       -46.056\n",
      "Covariance Type:            nonrobust   LLR p-value:                    0.2614\n",
      "==============================================================================\n",
      "                 coef    std err          z      P>|z|      [0.025      0.975]\n",
      "------------------------------------------------------------------------------\n",
      "const          3.1442      0.457      6.884      0.000       2.249       4.039\n",
      "Group_DC      -0.6712      0.603     -1.113      0.266      -1.853       0.511\n",
      "==============================================================================\n"
     ]
    }
   ],
   "source": [
    "# Predicting detection in controls with control status (healthy vs disease)\n",
    "\n",
    "import statsmodels.api as smf\n",
    "\n",
    "df_breakdown_sub = df_breakdown[df_breakdown['Group']!='P'].copy()\n",
    "\n",
    "#convert categorical variables to dummy variable\n",
    "df_breakdown_sub = pd.get_dummies(df_breakdown_sub, columns=['Group',], drop_first=False)\n",
    "\n",
    "# defining the dependent and independent variables with the reference for each category\n",
    "Xtrain = df_breakdown_sub[['Group_DC']]\n",
    "ytrain = df_breakdown_sub['detected']\n",
    "\n",
    "Xtrain = smf.add_constant(Xtrain)\n",
    "\n",
    "#create model\n",
    "model = smf.Logit(ytrain, Xtrain)\n",
    "\n",
    "#fit model\n",
    "res=model.fit()\n",
    "\n",
    "#print summary\n",
    "print(res.summary())"
   ]
  }
 ],
 "metadata": {
  "kernelspec": {
   "display_name": "Python 3.8.13 ('neohip3.8')",
   "language": "python",
   "name": "python3"
  },
  "language_info": {
   "codemirror_mode": {
    "name": "ipython",
    "version": 3
   },
   "file_extension": ".py",
   "mimetype": "text/x-python",
   "name": "python",
   "nbconvert_exporter": "python",
   "pygments_lexer": "ipython3",
   "version": "3.8.13"
  },
  "vscode": {
   "interpreter": {
    "hash": "815286c01469d9d90a947a8962f749122aac6fc2be2e11ce10fbe5b225ad5ed6"
   }
  }
 },
 "nbformat": 4,
 "nbformat_minor": 4
}
